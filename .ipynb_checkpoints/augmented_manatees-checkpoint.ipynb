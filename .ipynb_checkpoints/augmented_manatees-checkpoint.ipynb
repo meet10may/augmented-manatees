{
 "cells": [
  {
   "cell_type": "markdown",
   "metadata": {
    "execution": {},
    "id": "YMX72nfhsDTK"
   },
   "source": [
    "---\n",
    "# Setup"
   ]
  },
  {
   "cell_type": "code",
   "execution_count": 1,
   "metadata": {
    "colab": {
     "base_uri": "https://localhost:8080/"
    },
    "id": "lzrBGB9grpCj",
    "outputId": "c11a8230-66c3-4ad2-cec9-db2af5193278"
   },
   "outputs": [
    {
     "ename": "ModuleNotFoundError",
     "evalue": "No module named 'google'",
     "output_type": "error",
     "traceback": [
      "\u001b[1;31m---------------------------------------------------------------------------\u001b[0m",
      "\u001b[1;31mModuleNotFoundError\u001b[0m                       Traceback (most recent call last)",
      "\u001b[1;32m<ipython-input-1-d5df0069828e>\u001b[0m in \u001b[0;36m<module>\u001b[1;34m\u001b[0m\n\u001b[1;32m----> 1\u001b[1;33m \u001b[1;32mfrom\u001b[0m \u001b[0mgoogle\u001b[0m\u001b[1;33m.\u001b[0m\u001b[0mcolab\u001b[0m \u001b[1;32mimport\u001b[0m \u001b[0mdrive\u001b[0m\u001b[1;33m\u001b[0m\u001b[1;33m\u001b[0m\u001b[0m\n\u001b[0m\u001b[0;32m      2\u001b[0m \u001b[0mdrive\u001b[0m\u001b[1;33m.\u001b[0m\u001b[0mmount\u001b[0m\u001b[1;33m(\u001b[0m\u001b[1;34m'/content/drive'\u001b[0m\u001b[1;33m)\u001b[0m\u001b[1;33m\u001b[0m\u001b[1;33m\u001b[0m\u001b[0m\n",
      "\u001b[1;31mModuleNotFoundError\u001b[0m: No module named 'google'"
     ]
    }
   ],
   "source": [
    "from google.colab import drive\n",
    "drive.mount('/content/drive')"
   ]
  },
  {
   "cell_type": "code",
   "execution_count": 2,
   "metadata": {
    "colab": {
     "base_uri": "https://localhost:8080/"
    },
    "id": "W9czUylsxk8G",
    "outputId": "bf6f7f6f-d1f9-42d6-be25-aa9f6bc2e670"
   },
   "outputs": [
    {
     "name": "stdout",
     "output_type": "stream",
     "text": [
      "Thu Aug 12 14:34:51 2021       \n",
      "+-----------------------------------------------------------------------------+\n",
      "| NVIDIA-SMI 470.42.01    Driver Version: 460.32.03    CUDA Version: 11.2     |\n",
      "|-------------------------------+----------------------+----------------------+\n",
      "| GPU  Name        Persistence-M| Bus-Id        Disp.A | Volatile Uncorr. ECC |\n",
      "| Fan  Temp  Perf  Pwr:Usage/Cap|         Memory-Usage | GPU-Util  Compute M. |\n",
      "|                               |                      |               MIG M. |\n",
      "|===============================+======================+======================|\n",
      "|   0  Tesla K80           Off  | 00000000:00:04.0 Off |                    0 |\n",
      "| N/A   35C    P8    28W / 149W |      0MiB / 11441MiB |      0%      Default |\n",
      "|                               |                      |                  N/A |\n",
      "+-------------------------------+----------------------+----------------------+\n",
      "                                                                               \n",
      "+-----------------------------------------------------------------------------+\n",
      "| Processes:                                                                  |\n",
      "|  GPU   GI   CI        PID   Type   Process name                  GPU Memory |\n",
      "|        ID   ID                                                   Usage      |\n",
      "|=============================================================================|\n",
      "|  No running processes found                                                 |\n",
      "+-----------------------------------------------------------------------------+\n"
     ]
    }
   ],
   "source": [
    "!nvidia-smi"
   ]
  },
  {
   "cell_type": "code",
   "execution_count": 3,
   "metadata": {
    "cellView": "form",
    "execution": {},
    "id": "3OYFAZvOsDTL"
   },
   "outputs": [],
   "source": [
    "# @title Install dependencies\n",
    "!pip install opencv-python==4.1.2.30 --quiet\n",
    "!pip install numba --quiet"
   ]
  },
  {
   "cell_type": "code",
   "execution_count": 4,
   "metadata": {
    "execution": {},
    "id": "rFcxziY5sDTN"
   },
   "outputs": [],
   "source": [
    "# Imports\n",
    "import os\n",
    "import cv2\n",
    "import tqdm\n",
    "import hashlib\n",
    "import requests\n",
    "\n",
    "import numpy as np\n",
    "import matplotlib.pyplot as plt\n",
    "\n",
    "import torch\n",
    "import torch.nn as nn\n",
    "import torch.nn.functional as F\n",
    "\n",
    "from numba import jit\n",
    "\n",
    "from scipy.ndimage import gaussian_filter\n",
    "from scipy.ndimage import find_objects, binary_fill_holes\n",
    "from scipy.ndimage import generate_binary_structure, label\n",
    "from scipy.optimize import linear_sum_assignment\n",
    "\n",
    "# Our import functions\n",
    "import glob\n",
    "import matplotlib.image as mpimg\n",
    "from pathlib import Path"
   ]
  },
  {
   "cell_type": "markdown",
   "metadata": {
    "execution": {},
    "id": "BPMdqs5xsDTO"
   },
   "source": [
    "---\n",
    "# Intro to segmentation + denoising"
   ]
  },
  {
   "cell_type": "markdown",
   "metadata": {
    "execution": {},
    "id": "IJW1nvH7sDTV"
   },
   "source": [
    "## Data loading"
   ]
  },
  {
   "cell_type": "code",
   "execution_count": null,
   "metadata": {
    "id": "WJD9zfvamFC8"
   },
   "outputs": [],
   "source": [
    "# # Define working directory\n",
    "# working_dir = os.getcwd()        \n",
    "# data_path = os.path.join(working_dir,'data')\n",
    "\n",
    "# # Extract names of image files (as strings)\n",
    "# original_names = []\n",
    "# label_names = {'L':[],'R':[]}\n",
    "\n",
    "# for root, dirs, files in os.walk(data_path):\n",
    "#      for file in files:\n",
    "#         with open(os.path.join(root, file), \"r\") as auto:\n",
    "#             if 'label' in root:\n",
    "#                 if '_L' in file:\n",
    "#                     label_names['L'].append(os.path.join(root, file))\n",
    "#                 if '_R' in file:\n",
    "#                     label_names['R'].append(os.path.join(root, file)) \n",
    "                    \n",
    "#             elif 'original' in root:\n",
    "#                 original_names.append(os.path.join(root, file))\n",
    "\n",
    "# original_names.sort(key=lambda f: int(\"\".join(filter(str.isdigit, f))))\n",
    "# label_names['L'].sort(key=lambda f: int(\"\".join(filter(str.isdigit, f))))\n",
    "# label_names['R'].sort(key=lambda f: int(\"\".join(filter(str.isdigit, f))))"
   ]
  },
  {
   "cell_type": "code",
   "execution_count": null,
   "metadata": {
    "id": "hG0GRE_xmFC8"
   },
   "outputs": [],
   "source": [
    "# # Load images from image names\n",
    "# original_images = []\n",
    "# label_images = []\n",
    "# filtered_image_names = []\n",
    "\n",
    "# def binarize(img,threshold=100):\n",
    "#     # make all pixels < threshold black\n",
    "#     binarized = img > threshold\n",
    "#     return binarized\n",
    "\n",
    "# def get_label_name(image_name,hemisphere):\n",
    "#     id_s = Path(image_name).name.split('_')[-1]\n",
    "#     s = Path(image_name).name.split('_')[0:5]\n",
    "#     if hemisphere == 'L':\n",
    "#         s = '_'.join(s) + '_L_' + id_s\n",
    "#     elif hemisphere == 'R':\n",
    "#         s = '_'.join(s) + '_R_' + id_s\n",
    "#     return s\n",
    "\n",
    "# blank = 0\n",
    "\n",
    "# for image_name in original_names:\n",
    "#     img = mpimg.imread(image_name)\n",
    "#     if np.max(img) > 10:        \n",
    "#         name_R = get_label_name(image_name,'R')\n",
    "#         name_L = get_label_name(image_name,'L')\n",
    "\n",
    "#         path_L = list(filter(lambda x: name_L in x, label_names['L']))\n",
    "#         path_R = list(filter(lambda x: name_R in x, label_names['R']))\n",
    "        \n",
    "#         if len(path_R) != 0: # if both R and L label images exist          \n",
    "#             img_L = mpimg.imread(path_L[0])\n",
    "#             img_R = mpimg.imread(path_R[0])            \n",
    "#             label_image = binarize(img_L[:,:,0]) + binarize(img_R[:,:,0])\n",
    "                        \n",
    "#             # Crop images and remove any that don't contain hippocampus            \n",
    "#             if np.max(label_image) == 1:\n",
    "#                 label_images.append(label_image[18:215,:])\n",
    "#                 original_images.append(img[18:215,:,0])\n",
    "#                 filtered_image_names.append(image_name)\n",
    "#                 blank = 1\n",
    "\n",
    "#             elif blank == 1:\n",
    "#                 label_images.append(label_image[18:215,:])\n",
    "#                 original_images.append(img[18:215,:,0])\n",
    "#                 filtered_image_names.append(image_name)  \n",
    "#                 blank = 0\n",
    "                                \n",
    "# original_images = np.array(original_images)\n",
    "# label_images = np.array(label_images)"
   ]
  },
  {
   "cell_type": "code",
   "execution_count": 6,
   "metadata": {
    "id": "xx_vrEXIoJ4J"
   },
   "outputs": [],
   "source": [
    "original_images=np.load('/content/drive/MyDrive/Colab Notebooks/images.npy')\n",
    "label_images=np.load('/content/drive/MyDrive/Colab Notebooks/labels.npy')"
   ]
  },
  {
   "cell_type": "code",
   "execution_count": 5,
   "metadata": {},
   "outputs": [],
   "source": [
    "# for Lin's PC\n",
    "original_images = np.load('original_images.npz',allow_pickle=True)['original_images']\n",
    "label_images = np.load('label_images.npz',allow_pickle=True)['label_images']\n",
    "\n",
    "\n"
   ]
  },
  {
   "cell_type": "code",
   "execution_count": 8,
   "metadata": {},
   "outputs": [],
   "source": [
    "# for Guanghan's PC\n",
    "original_images=np.load('C:\\\\Users\\\\Guanghan-WallerLab\\\\Documents\\\\Neuromatch project\\\\images_with_blanks.npy')\n",
    "label_images=np.load('C:\\\\Users\\\\Guanghan-WallerLab\\\\Documents\\\\Neuromatch project\\\\labels_with_blanks.npy')"
   ]
  },
  {
   "cell_type": "code",
   "execution_count": 9,
   "metadata": {
    "id": "UM3ME7t5xk8K",
    "outputId": "0a2f069c-1022-4b0b-9c65-2b69169f2d5a"
   },
   "outputs": [
    {
     "data": {
      "text/plain": [
       "((4130, 197, 197), (4130, 197, 197))"
      ]
     },
     "execution_count": 9,
     "metadata": {},
     "output_type": "execute_result"
    }
   ],
   "source": [
    "original_images.shape, label_images.shape"
   ]
  },
  {
   "cell_type": "code",
   "execution_count": 10,
   "metadata": {
    "id": "xIn4YD62mFC-"
   },
   "outputs": [],
   "source": [
    "# Split dataset into train and test set\n",
    "from sklearn.model_selection import train_test_split\n",
    "\n",
    "label_images_abs = np.max(label_images,axis=(1,2))\n",
    "\n",
    "images_train, images_test, label_train, label_test = train_test_split(original_images, label_images, \n",
    "                                                    test_size=0.2, random_state=42, stratify=label_images_abs)\n",
    "\n",
    "label_train_abs = np.max(label_train,axis=(1,2))\n",
    "images_train, images_val, label_train, label_val = train_test_split(images_train, label_train, \n",
    "                                                    test_size=0.2, random_state=42, stratify=label_train_abs)\n",
    "\n",
    "images_train = np.expand_dims(images_train, axis=1)\n",
    "images_val = np.expand_dims(images_val, axis=1)\n",
    "images_test = np.expand_dims(images_test, axis=1)\n",
    "\n",
    "label_train = np.expand_dims(label_train, axis=1)\n",
    "label_val = np.expand_dims(label_val, axis=1)\n",
    "label_test = np.expand_dims(label_test, axis=1)\n"
   ]
  },
  {
   "cell_type": "code",
   "execution_count": 11,
   "metadata": {
    "id": "g2vDgWLBmFC_"
   },
   "outputs": [],
   "source": [
    "# Normalize images (zero mean, std=1)\n",
    "mean_train = np.mean(images_train)\n",
    "std_train = np.std(images_train)\n",
    "\n",
    "images_train = (images_train - mean_train) / std_train\n",
    "images_val = (images_val - mean_train) / std_train\n",
    "images_test = (images_test - mean_train) / std_train"
   ]
  },
  {
   "cell_type": "code",
   "execution_count": null,
   "metadata": {
    "id": "Btg3wqcUmFC_"
   },
   "outputs": [],
   "source": [
    "# Load images into pytorch DataLoader"
   ]
  },
  {
   "cell_type": "code",
   "execution_count": null,
   "metadata": {
    "id": "5egNRwUamFDA"
   },
   "outputs": [],
   "source": [
    "# Train U-Net segmentation network\n",
    "\n",
    "# Class imbalance problem:\n",
    "# Since there are many images with no hippocampus, we want to count these images less towards the loss\n",
    "\n",
    "# When calculating the loss on each forward pass:\n",
    "# LOSS = 0.85 * mean(loss(x_with, y_with)) + 0.15 * mean(loss(x_without, y_without))"
   ]
  },
  {
   "cell_type": "code",
   "execution_count": 12,
   "metadata": {
    "id": "h2yCSxvumFDA"
   },
   "outputs": [],
   "source": [
    "def convbatchrelu(in_channels, out_channels, sz):\n",
    "  return nn.Sequential(\n",
    "      nn.Conv2d(in_channels, out_channels, sz, padding=sz//2),\n",
    "      nn.BatchNorm2d(out_channels, eps=1e-5),\n",
    "      nn.ReLU(inplace=True),\n",
    "      )\n",
    "\n",
    "\n",
    "class convdown(nn.Module):\n",
    "  def __init__(self, in_channels, out_channels, kernel_size):\n",
    "    super().__init__()\n",
    "    self.conv = nn.Sequential()\n",
    "    for t in range(2):\n",
    "      if t == 0:\n",
    "        self.conv.add_module('conv_%d'%t,\n",
    "                             convbatchrelu(in_channels,\n",
    "                                           out_channels,\n",
    "                                           kernel_size))\n",
    "      else:\n",
    "        self.conv.add_module('conv_%d'%t,\n",
    "                             convbatchrelu(out_channels,\n",
    "                                           out_channels,\n",
    "                                           kernel_size))\n",
    "\n",
    "  def forward(self, x):\n",
    "    x = self.conv[0](x)\n",
    "    x = self.conv[1](x)\n",
    "    return x\n",
    "\n",
    "\n",
    "class downsample(nn.Module):\n",
    "  def __init__(self, nbase, kernel_size):\n",
    "    super().__init__()\n",
    "    self.down = nn.Sequential()\n",
    "    self.maxpool = nn.MaxPool2d(2, 2)\n",
    "    for n in range(len(nbase) - 1):\n",
    "      self.down.add_module('conv_down_%d'%n,\n",
    "                           convdown(nbase[n],\n",
    "                                    nbase[n + 1],\n",
    "                                    kernel_size))\n",
    "\n",
    "  def forward(self, x):\n",
    "    xd = []\n",
    "    for n in range(len(self.down)):\n",
    "      if n > 0:\n",
    "        y = self.maxpool(xd[n - 1])\n",
    "      else:\n",
    "        y = x\n",
    "      xd.append(self.down[n](y))\n",
    "    return xd\n",
    "\n",
    "\n",
    "class convup(nn.Module):\n",
    "  def __init__(self, in_channels, out_channels, kernel_size):\n",
    "    super().__init__()\n",
    "    self.conv = nn.Sequential()\n",
    "    self.conv.add_module('conv_0', convbatchrelu(in_channels,\n",
    "                                                 out_channels,\n",
    "                                                 kernel_size))\n",
    "    self.conv.add_module('conv_1', convbatchrelu(out_channels,\n",
    "                                                 out_channels,\n",
    "                                                 kernel_size))\n",
    "\n",
    "  def forward(self, x, y):\n",
    "    #print(x.shape, y.shape)\n",
    "    x = self.conv[0](x)\n",
    "    x = self.conv[1](x + y)\n",
    "    return x\n",
    "\n",
    "\n",
    "class upsample(nn.Module):\n",
    "  def __init__(self, nbase, kernel_size):\n",
    "    super().__init__()\n",
    "    self.upsampling = nn.Upsample(scale_factor=2, mode='nearest')\n",
    "    self.up = nn.Sequential()\n",
    "    for n in range(len(nbase) - 1 , 0, -1):\n",
    "      self.up.add_module('conv_up_%d'%(n - 1),\n",
    "              convup(nbase[n], nbase[n - 1], kernel_size))\n",
    "\n",
    "  def forward(self, xd):\n",
    "    x = xd[-1]\n",
    "    for n in range(0, len(self.up)):\n",
    "      if n > 0:\n",
    "        x = self.upsampling(x)\n",
    "      x = self.up[n](x, xd[len(xd) - 1 - n])\n",
    "    return x\n",
    "\n",
    "\n",
    "class Unet(nn.Module):\n",
    "  def __init__(self, nbase, nout, kernel_size):\n",
    "    super(Unet, self).__init__()\n",
    "    self.nbase = nbase\n",
    "    self.nout = nout\n",
    "    self.kernel_size = kernel_size\n",
    "    self.downsample = downsample(nbase, kernel_size)\n",
    "    nbaseup = nbase[1:]\n",
    "    nbaseup.append(nbase[-1])\n",
    "    self.upsample = upsample(nbaseup, kernel_size)\n",
    "    self.output = nn.Conv2d(nbase[1], self.nout, kernel_size,\n",
    "                            padding=kernel_size//2)\n",
    "\n",
    "  def forward(self, data):\n",
    "    T0 = self.downsample(data)\n",
    "    T0 = self.upsample(T0)\n",
    "    T0 = self.output(T0)\n",
    "    return T0\n",
    "\n",
    "  def save_model(self, filename):\n",
    "    torch.save(self.state_dict(), filename)\n",
    "\n",
    "  def load_model(self, filename, cpu=False):\n",
    "    if not cpu:\n",
    "      self.load_state_dict(torch.load(filename))\n",
    "    else:\n",
    "      self.__init__(self.nbase,\n",
    "                    self.nout,\n",
    "                    self.kernel_size,\n",
    "                    self.concatenation)\n",
    "\n",
    "      self.load_state_dict(torch.load(filename,\n",
    "                                      map_location=torch.device('cpu')))"
   ]
  },
  {
   "cell_type": "code",
   "execution_count": 13,
   "metadata": {
    "id": "WV6w9MpcmFDA"
   },
   "outputs": [],
   "source": [
    "def resize(X,xy=(200, 200)):\n",
    "    reshape_im = []\n",
    "    for n in range(X.shape[0]):\n",
    "        reshape_im.append(cv2.resize(X[n,0],xy))\n",
    "    reshape_im = np.array(np.expand_dims(reshape_im,axis=1))\n",
    "    return reshape_im\n",
    "\n",
    "\n",
    "def random_rotate_and_resize(X, Y=None, scale_range=0.5, xy=(200, 200),\n",
    "                             do_flip=True): # change to (200,200), which is /2**3 \n",
    "  \"\"\"\n",
    "  Augmentation by random rotation and resizing\n",
    "\n",
    "  X and Y are lists or arrays of length nimg, with dims channels x Ly x Lx (channels optional)\n",
    "\n",
    "  Parameters\n",
    "  ----------\n",
    "  X: ND-array, float\n",
    "    list of IMAGE arrays of size [nchan x Ly x Lx] or [Ly x Lx]\n",
    "\n",
    "  Y: ND-array, float or int (optional, default None)\n",
    "    list of MASK arrays of size [nlabels x Ly x Lx] or [Ly x Lx].\n",
    "    ** These labels are nearest neighbor interpolated\n",
    "    ** CHANGE IF USING FLOAT LABELS\n",
    "\n",
    "  scale_range: float (optional, default 1.0)\n",
    "    Range of resizing of images for augmentation. Images are resized by\n",
    "    (1-scale_range/2) + scale_range * np.random.rand()\n",
    "\n",
    "  xy: tuple, int (optional, default (224,224))\n",
    "    size of transformed images to return\n",
    "\n",
    "  do_flip: bool (optional, default True)\n",
    "    whether or not to flip images horizontally\n",
    "\n",
    "  Returns\n",
    "  -------\n",
    "  imgi: ND-array, float\n",
    "    transformed images in array [nimg x nchan x xy[0] x xy[1]]\n",
    "\n",
    "  lbl: ND-array, float\n",
    "    transformed labels in array [nimg x nchan x xy[0] x xy[1]]\n",
    "\n",
    "  scale: array, float\n",
    "    amount each image was resized by\n",
    "  \"\"\"\n",
    "\n",
    "  scale_range = max(0, min(2, float(scale_range)))\n",
    "  nimg = len(X)\n",
    "  if X[0].ndim > 2:\n",
    "    nchan = X[0].shape[0]\n",
    "  else:\n",
    "    nchan = 1\n",
    "  imgi  = np.zeros((nimg, nchan, xy[0], xy[1]), np.float32)\n",
    "\n",
    "  lbl = []\n",
    "  if Y is not None:\n",
    "    if Y[0].ndim > 2:\n",
    "      nt = Y[0].shape[0]\n",
    "    else:\n",
    "      nt = 1\n",
    "    lbl = np.zeros((nimg, nt, xy[0], xy[1]), Y.dtype)\n",
    "\n",
    "  scale = np.zeros(nimg, np.float32)\n",
    "  for n in range(nimg):\n",
    "    Ly, Lx = X[n].shape[-2:]\n",
    "\n",
    "    # generate random augmentation parameters\n",
    "    flip = np.random.rand() > .5\n",
    "    theta = np.random.rand() * np.pi * 2\n",
    "    scale[n] = (1 - scale_range / 2) + scale_range * np.random.rand()\n",
    "    dxy = np.maximum(0, np.array([Lx*scale[n] - xy[1], Ly * scale[n] - xy[0]]))\n",
    "    dxy = (np.random.rand(2,) - .5) * dxy\n",
    "\n",
    "    # create affine transform\n",
    "    cc = np.array([Lx / 2, Ly / 2])\n",
    "    cc1 = cc - np.array([Lx - xy[1], Ly - xy[0]]) / 2 + dxy\n",
    "    pts1 = np.float32([cc, cc + np.array([1, 0]), cc + np.array([0, 1])])\n",
    "    pts2 = np.float32([cc1,\n",
    "            cc1 + scale[n]*np.array([np.cos(theta), np.sin(theta)]),\n",
    "            cc1 + scale[n]*np.array([np.cos(np.pi/2 + theta),\n",
    "                                     np.sin(np.pi/2 + theta)])])\n",
    "\n",
    "    M = cv2.getAffineTransform(pts1, pts2)\n",
    "\n",
    "    img = X[n].copy()\n",
    "    if Y is not None:\n",
    "      labels = Y[n].copy()\n",
    "      if labels.ndim < 3:\n",
    "        labels = labels[np.newaxis, :, :]\n",
    "\n",
    "    if flip and do_flip:\n",
    "      img = img[..., ::-1]\n",
    "      if Y is not None:\n",
    "        labels = labels[..., ::-1]\n",
    "\n",
    "    for k in range(nchan):\n",
    "      I = cv2.warpAffine(img[k], M, (xy[1], xy[0]), flags=cv2.INTER_LINEAR)\n",
    "      imgi[n,k] = I\n",
    "\n",
    "    if Y is not None:\n",
    "      for k in range(nt):\n",
    "        # ** nearest neighbor interpolation **\n",
    "        # may need to change for float labels\n",
    "        lbl[n,k] = cv2.warpAffine(labels[k], M, (xy[1],xy[0]),\n",
    "                                  flags=cv2.INTER_NEAREST)\n",
    "\n",
    "  return imgi, lbl, scale"
   ]
  },
  {
   "cell_type": "code",
   "execution_count": 14,
   "metadata": {
    "colab": {
     "base_uri": "https://localhost:8080/"
    },
    "id": "XqDHB8MUxk8P",
    "outputId": "146d640d-78d8-465c-958f-4ea9fc980f87"
   },
   "outputs": [
    {
     "name": "stdout",
     "output_type": "stream",
     "text": [
      "Random seed 2021 has been set.\n"
     ]
    }
   ],
   "source": [
    "# set random seed \n",
    "import random\n",
    "def set_seed(seed=None, seed_torch=True):\n",
    "  if seed is None:\n",
    "    seed = np.random.choice(2 ** 32)\n",
    "  random.seed(seed)\n",
    "  np.random.seed(seed)\n",
    "  if seed_torch:\n",
    "    torch.manual_seed(seed)\n",
    "    torch.cuda.manual_seed_all(seed)\n",
    "    torch.cuda.manual_seed(seed)\n",
    "    torch.backends.cudnn.benchmark = False\n",
    "    torch.backends.cudnn.deterministic = True\n",
    "\n",
    "  print(f'Random seed {seed} has been set.')\n",
    "\n",
    "\n",
    "# In case that `DataLoader` is used\n",
    "def seed_worker(worker_id):\n",
    "  worker_seed = torch.initial_seed() % 2**32\n",
    "  np.random.seed(worker_seed)\n",
    "  random.seed(worker_seed)\n",
    "\n",
    "SEED = 2021\n",
    "set_seed(seed=SEED)"
   ]
  },
  {
   "cell_type": "code",
   "execution_count": 15,
   "metadata": {
    "id": "jOXXQrH3mFDB"
   },
   "outputs": [],
   "source": [
    "kernel_size = 3\n",
    "nbase = [1, 32, 64, 128, 256]  # number of channels per layer\n",
    "nout = 2  # number of outputs\n",
    "\n",
    "net = Unet(nbase, nout, kernel_size)\n",
    "# put on GPU here if you have it\n",
    "device = 'cuda' if torch.cuda.is_available() else 'cpu'\n",
    "net.to(device);  # remove semi-colon to see net structure"
   ]
  },
  {
   "cell_type": "code",
   "execution_count": 51,
   "metadata": {
    "colab": {
     "base_uri": "https://localhost:8080/"
    },
    "collapsed": true,
    "id": "dtfeJ9XXmFDB",
    "outputId": "65408f2d-99c6-4467-8d6f-3aa6598e0247"
   },
   "outputs": [
    {
     "name": "stderr",
     "output_type": "stream",
     "text": [
      "Epoch 1/50:  39%|█████████████████▌                           | 1032/2643 [02:43<04:15,  6.30img/s, loss (batch)=0.822]\n"
     ]
    },
    {
     "ename": "KeyboardInterrupt",
     "evalue": "",
     "output_type": "error",
     "traceback": [
      "\u001b[1;31m---------------------------------------------------------------------------\u001b[0m",
      "\u001b[1;31mKeyboardInterrupt\u001b[0m                         Traceback (most recent call last)",
      "\u001b[1;32m<ipython-input-51-e6edaa0ee5b8>\u001b[0m in \u001b[0;36m<module>\u001b[1;34m\u001b[0m\n\u001b[0;32m     82\u001b[0m       \u001b[1;31m# gradient descent\u001b[0m\u001b[1;33m\u001b[0m\u001b[1;33m\u001b[0m\u001b[1;33m\u001b[0m\u001b[0m\n\u001b[0;32m     83\u001b[0m       \u001b[0moptimizer\u001b[0m\u001b[1;33m.\u001b[0m\u001b[0mzero_grad\u001b[0m\u001b[1;33m(\u001b[0m\u001b[1;33m)\u001b[0m\u001b[1;33m\u001b[0m\u001b[1;33m\u001b[0m\u001b[0m\n\u001b[1;32m---> 84\u001b[1;33m       \u001b[0mloss\u001b[0m\u001b[1;33m.\u001b[0m\u001b[0mbackward\u001b[0m\u001b[1;33m(\u001b[0m\u001b[1;33m)\u001b[0m\u001b[1;33m\u001b[0m\u001b[1;33m\u001b[0m\u001b[0m\n\u001b[0m\u001b[0;32m     85\u001b[0m       \u001b[1;31m#nn.utils.clip_grad_value_(net.parameters(), 0.1)\u001b[0m\u001b[1;33m\u001b[0m\u001b[1;33m\u001b[0m\u001b[1;33m\u001b[0m\u001b[0m\n\u001b[0;32m     86\u001b[0m       \u001b[0moptimizer\u001b[0m\u001b[1;33m.\u001b[0m\u001b[0mstep\u001b[0m\u001b[1;33m(\u001b[0m\u001b[1;33m)\u001b[0m\u001b[1;33m\u001b[0m\u001b[1;33m\u001b[0m\u001b[0m\n",
      "\u001b[1;32mC:\\ProgramData\\Anaconda3\\lib\\site-packages\\torch\\tensor.py\u001b[0m in \u001b[0;36mbackward\u001b[1;34m(self, gradient, retain_graph, create_graph)\u001b[0m\n\u001b[0;32m    219\u001b[0m                 \u001b[0mretain_graph\u001b[0m\u001b[1;33m=\u001b[0m\u001b[0mretain_graph\u001b[0m\u001b[1;33m,\u001b[0m\u001b[1;33m\u001b[0m\u001b[1;33m\u001b[0m\u001b[0m\n\u001b[0;32m    220\u001b[0m                 create_graph=create_graph)\n\u001b[1;32m--> 221\u001b[1;33m         \u001b[0mtorch\u001b[0m\u001b[1;33m.\u001b[0m\u001b[0mautograd\u001b[0m\u001b[1;33m.\u001b[0m\u001b[0mbackward\u001b[0m\u001b[1;33m(\u001b[0m\u001b[0mself\u001b[0m\u001b[1;33m,\u001b[0m \u001b[0mgradient\u001b[0m\u001b[1;33m,\u001b[0m \u001b[0mretain_graph\u001b[0m\u001b[1;33m,\u001b[0m \u001b[0mcreate_graph\u001b[0m\u001b[1;33m)\u001b[0m\u001b[1;33m\u001b[0m\u001b[1;33m\u001b[0m\u001b[0m\n\u001b[0m\u001b[0;32m    222\u001b[0m \u001b[1;33m\u001b[0m\u001b[0m\n\u001b[0;32m    223\u001b[0m     \u001b[1;32mdef\u001b[0m \u001b[0mregister_hook\u001b[0m\u001b[1;33m(\u001b[0m\u001b[0mself\u001b[0m\u001b[1;33m,\u001b[0m \u001b[0mhook\u001b[0m\u001b[1;33m)\u001b[0m\u001b[1;33m:\u001b[0m\u001b[1;33m\u001b[0m\u001b[1;33m\u001b[0m\u001b[0m\n",
      "\u001b[1;32mC:\\ProgramData\\Anaconda3\\lib\\site-packages\\torch\\autograd\\__init__.py\u001b[0m in \u001b[0;36mbackward\u001b[1;34m(tensors, grad_tensors, retain_graph, create_graph, grad_variables)\u001b[0m\n\u001b[0;32m    130\u001b[0m     Variable._execution_engine.run_backward(\n\u001b[0;32m    131\u001b[0m         \u001b[0mtensors\u001b[0m\u001b[1;33m,\u001b[0m \u001b[0mgrad_tensors_\u001b[0m\u001b[1;33m,\u001b[0m \u001b[0mretain_graph\u001b[0m\u001b[1;33m,\u001b[0m \u001b[0mcreate_graph\u001b[0m\u001b[1;33m,\u001b[0m\u001b[1;33m\u001b[0m\u001b[1;33m\u001b[0m\u001b[0m\n\u001b[1;32m--> 132\u001b[1;33m         allow_unreachable=True)  # allow_unreachable flag\n\u001b[0m\u001b[0;32m    133\u001b[0m \u001b[1;33m\u001b[0m\u001b[0m\n\u001b[0;32m    134\u001b[0m \u001b[1;33m\u001b[0m\u001b[0m\n",
      "\u001b[1;31mKeyboardInterrupt\u001b[0m: "
     ]
    }
   ],
   "source": [
    "\n",
    "from datetime import datetime\n",
    "\n",
    "# train the network\n",
    "# parameters related to training the network\n",
    "batch_size = 8 # number of images per batch -- amount of required memory\n",
    "              # for training will increase linearly in batchsize\n",
    "### you will want to increase n_epochs!\n",
    "n_epochs = 50  # number of times to cycle through all the data during training\n",
    "learning_rate = 0.1 # initial learning rate\n",
    "weight_decay = 1e-5 # L2 regularization of weights\n",
    "momentum = 0.9 # how much to use previous gradient direction\n",
    "n_epochs_per_save = 25 # how often to save the network\n",
    "val_frac = 0.05 # what fraction of data to use for validation\n",
    "augmentation = False\n",
    "\n",
    "\n",
    "# where to save the network\n",
    "# make sure to clean these out every now and then, as you will run out of space\n",
    "now = datetime.now()\n",
    "timestamp = now.strftime('%Y%m%dT%H%M%S')\n",
    "\n",
    "n_train = images_train.shape[0]\n",
    "n_val = images_val.shape[0]\n",
    "\n",
    "# gradient descent flavor\n",
    "optimizer = torch.optim.SGD(net.parameters(),\n",
    "                            lr=learning_rate,\n",
    "                            weight_decay=weight_decay,\n",
    "                            momentum=0.9)\n",
    "\n",
    "# set learning rate schedule\n",
    "LR = np.linspace(0, learning_rate, 10)\n",
    "if n_epochs > 250:\n",
    "    LR = np.append(LR, learning_rate*np.ones(n_epochs-100))\n",
    "    for i in range(10):\n",
    "        LR = np.append(LR, LR[-1]/2 * np.ones(10))\n",
    "else:\n",
    "    LR = np.append(LR, learning_rate * np.ones(max(0, n_epochs - 10)))\n",
    "\n",
    "criterion = nn.CrossEntropyLoss()\n",
    "\n",
    "# store loss per epoch\n",
    "epoch_losses = np.zeros(n_epochs)\n",
    "epoch_losses[:] = np.nan\n",
    "val_losses = np.zeros(n_epochs)\n",
    "val_losses[:] = np.nan\n",
    "\n",
    "# when we last saved the network\n",
    "saveepoch = None\n",
    "\n",
    "# loop through entire training data set nepochs times\n",
    "for epoch in range(n_epochs):\n",
    "\n",
    "  epoch_loss = 0\n",
    "  val_loss=0\n",
    "  iters = 0\n",
    "  for param_group in optimizer.param_groups:\n",
    "    param_group['lr'] = LR[epoch]\n",
    "  with tqdm.tqdm(total=n_train, desc=f\"Epoch {epoch + 1}/{n_epochs}\", unit='img') as pbar:\n",
    "    # loop through each batch in the training data\n",
    "    net.train() # put in train mode (affects batchnorm)\n",
    "    for ibatch in np.arange(0, n_train, batch_size):\n",
    "      # augment the data\n",
    "      inds = np.arange(ibatch, min(n_train, ibatch+batch_size))\n",
    "      if augmentation == True:\n",
    "        imgs, lbls, _ = random_rotate_and_resize(images_train[inds],label_train[inds].astype(int),xy = (200,200))\n",
    "      else: \n",
    "        imgs = resize(images_train[inds],xy = (200,200))\n",
    "        lbls = resize(label_train[inds].astype(float),xy = (200,200)).astype(int)\n",
    "\n",
    "      # transfer to torch + GPU\n",
    "      imgs = torch.from_numpy(imgs).to(device=device)\n",
    "      lbls = torch.from_numpy(lbls).to(device=device)\n",
    "      imgs = imgs.to(dtype=torch.float32)\n",
    "      lbls = lbls.to(dtype=torch.int64)\n",
    "\n",
    "      # compute the loss\n",
    "      y = net(imgs)\n",
    "      loss = criterion(y, lbls[:, 0])\n",
    "      epoch_loss += loss.item()\n",
    "      pbar.set_postfix(**{'loss (batch)': loss.item()})\n",
    "      # gradient descent\n",
    "      optimizer.zero_grad()\n",
    "      loss.backward()\n",
    "      #nn.utils.clip_grad_value_(net.parameters(), 0.1)\n",
    "      optimizer.step()\n",
    "      iters+=1\n",
    "      pbar.update(imgs.shape[0])\n",
    "\n",
    "    net.eval()  \n",
    "\n",
    "    for ibatch in np.arange(0,n_val,batch_size):\n",
    "      inds = np.arange(ibatch, min(n_val, ibatch+batch_size))\n",
    "      if augmentation == True:\n",
    "        imgs_val, lbls_val, _ = random_rotate_and_resize(images_val[inds],label_val[inds].astype(int),xy = (200,200))\n",
    "      else:\n",
    "        imgs_val = resize(images_val[inds],xy = (200,200))\n",
    "        lbls_val = resize(label_val[inds].astype(float),xy = (200,200)).astype(int)\n",
    "      imgs_val = torch.from_numpy(imgs_val).to(device=device)\n",
    "      lbls_val = torch.from_numpy(lbls_val).to(device=device)\n",
    "      imgs_val = imgs_val.to(dtype=torch.float32)\n",
    "      lbls_val = lbls_val.to(dtype=torch.int64)  \n",
    "      output = net(imgs_val)\n",
    "      loss = criterion(output,lbls_val[:, 0])\n",
    "      val_loss+=loss.item()\n",
    "      pbar.set_postfix(**{'val (batch)': loss.item()})\n",
    "\n",
    "  # Setting up mean loss: n_val/batch_size= total number of batches\n",
    "    epoch_losses[epoch] = epoch_loss/(n_train/batch_size)\n",
    "    val_losses[epoch] = val_loss/(n_val/batch_size)\n",
    "    \n",
    "    \n",
    "    pbar.set_postfix(**{'loss (epoch)': epoch_loss,'Val (epoch)': val_loss})  #.update('loss (epoch) = %f'%epoch_loss)\n",
    "\n",
    "  # save checkpoint networks every now and then\n",
    "  if epoch % n_epochs_per_save == 0:\n",
    "    print(f\"\\nSaving network state at epoch {epoch+1}\")\n",
    "    saveepoch = epoch\n",
    "    savefile = f\"unet_epoch{saveepoch+1}.pth\"\n",
    "    net.save_model(savefile)\n",
    "print(f\"\\nSaving network state at epoch {epoch+1}\")\n",
    "if augmentation:\n",
    "    fname = 'unet_epoch_'+str(epoch+1)+'_augmentation.pth'\n",
    "    np.save('augmentation_epoch_loss',epoch_losses)\n",
    "    np.save('augmentation_val_losses',val_losses)\n",
    "else:\n",
    "    fname = 'unet_epoch_'+str(epoch+1)+'_no_augmentation.pth'\n",
    "    np.save('no_augmentation_epoch_loss',epoch_losses)\n",
    "    np.save('no_augmentation_val_losses',val_losses)    \n",
    "net.save_model(fname)"
   ]
  },
  {
   "cell_type": "code",
   "execution_count": null,
   "metadata": {
    "colab": {
     "base_uri": "https://localhost:8080/",
     "height": 300
    },
    "id": "zTWDbTbj5cXr",
    "outputId": "8346b11a-b816-4dc9-e124-cf96fdb7c4f2"
   },
   "outputs": [
    {
     "data": {
      "text/plain": [
       "(0.0, 3.0)"
      ]
     },
     "execution_count": 52,
     "metadata": {
      "tags": []
     },
     "output_type": "execute_result"
    },
    {
     "data": {
      "image/png": "[encoded data removed]",
      "text/plain": [
       "<Figure size 432x288 with 1 Axes>"
      ]
     },
     "metadata": {
      "needs_background": "light",
      "tags": []
     },
     "output_type": "display_data"
    }
   ],
   "source": [
    "def plot_loss(epoch_losses, val_losses):\n",
    "    plt.plot(epoch_losses,'r')\n",
    "    plt.plot(val_losses,'b')\n",
    "    plt.xlabel('Epochs')\n",
    "    plt.ylabel('Losses')\n",
    "    plt.ylim([0,np.max([epoch_losses, val_losses])])"
   ]
  },
  {
   "cell_type": "code",
   "execution_count": null,
   "metadata": {
    "id": "WGNrg7MXmFDC"
   },
   "outputs": [],
   "source": [
    "# Every epoch: compute validation loss & store it\n",
    "\n",
    "# plot the training loss and the validation loss over epochs\n"
   ]
  },
  {
   "cell_type": "code",
   "execution_count": 57,
   "metadata": {
    "collapsed": true,
    "id": "2rsrrCvazzG4"
   },
   "outputs": [
    {
     "ename": "FileNotFoundError",
     "evalue": "[Errno 2] No such file or directory: '/content/drive/MyDrive/Colab Notebooks/unet_epoch50.pth'",
     "output_type": "error",
     "traceback": [
      "\u001b[1;31m---------------------------------------------------------------------------\u001b[0m",
      "\u001b[1;31mFileNotFoundError\u001b[0m                         Traceback (most recent call last)",
      "\u001b[1;32m<ipython-input-57-ccee528d2668>\u001b[0m in \u001b[0;36m<module>\u001b[1;34m\u001b[0m\n\u001b[1;32m----> 1\u001b[1;33m \u001b[0mnet\u001b[0m\u001b[1;33m.\u001b[0m\u001b[0mload_model\u001b[0m\u001b[1;33m(\u001b[0m\u001b[1;34m'/content/drive/MyDrive/Colab Notebooks/unet_epoch50.pth'\u001b[0m\u001b[1;33m)\u001b[0m\u001b[1;33m\u001b[0m\u001b[1;33m\u001b[0m\u001b[0m\n\u001b[0m",
      "\u001b[1;32m<ipython-input-9-ccebf444f5e7>\u001b[0m in \u001b[0;36mload_model\u001b[1;34m(self, filename, cpu)\u001b[0m\n\u001b[0;32m    111\u001b[0m   \u001b[1;32mdef\u001b[0m \u001b[0mload_model\u001b[0m\u001b[1;33m(\u001b[0m\u001b[0mself\u001b[0m\u001b[1;33m,\u001b[0m \u001b[0mfilename\u001b[0m\u001b[1;33m,\u001b[0m \u001b[0mcpu\u001b[0m\u001b[1;33m=\u001b[0m\u001b[1;32mFalse\u001b[0m\u001b[1;33m)\u001b[0m\u001b[1;33m:\u001b[0m\u001b[1;33m\u001b[0m\u001b[1;33m\u001b[0m\u001b[0m\n\u001b[0;32m    112\u001b[0m     \u001b[1;32mif\u001b[0m \u001b[1;32mnot\u001b[0m \u001b[0mcpu\u001b[0m\u001b[1;33m:\u001b[0m\u001b[1;33m\u001b[0m\u001b[1;33m\u001b[0m\u001b[0m\n\u001b[1;32m--> 113\u001b[1;33m       \u001b[0mself\u001b[0m\u001b[1;33m.\u001b[0m\u001b[0mload_state_dict\u001b[0m\u001b[1;33m(\u001b[0m\u001b[0mtorch\u001b[0m\u001b[1;33m.\u001b[0m\u001b[0mload\u001b[0m\u001b[1;33m(\u001b[0m\u001b[0mfilename\u001b[0m\u001b[1;33m)\u001b[0m\u001b[1;33m)\u001b[0m\u001b[1;33m\u001b[0m\u001b[1;33m\u001b[0m\u001b[0m\n\u001b[0m\u001b[0;32m    114\u001b[0m     \u001b[1;32melse\u001b[0m\u001b[1;33m:\u001b[0m\u001b[1;33m\u001b[0m\u001b[1;33m\u001b[0m\u001b[0m\n\u001b[0;32m    115\u001b[0m       self.__init__(self.nbase,\n",
      "\u001b[1;32mC:\\ProgramData\\Anaconda3\\lib\\site-packages\\torch\\serialization.py\u001b[0m in \u001b[0;36mload\u001b[1;34m(f, map_location, pickle_module, **pickle_load_args)\u001b[0m\n\u001b[0;32m    579\u001b[0m         \u001b[0mpickle_load_args\u001b[0m\u001b[1;33m[\u001b[0m\u001b[1;34m'encoding'\u001b[0m\u001b[1;33m]\u001b[0m \u001b[1;33m=\u001b[0m \u001b[1;34m'utf-8'\u001b[0m\u001b[1;33m\u001b[0m\u001b[1;33m\u001b[0m\u001b[0m\n\u001b[0;32m    580\u001b[0m \u001b[1;33m\u001b[0m\u001b[0m\n\u001b[1;32m--> 581\u001b[1;33m     \u001b[1;32mwith\u001b[0m \u001b[0m_open_file_like\u001b[0m\u001b[1;33m(\u001b[0m\u001b[0mf\u001b[0m\u001b[1;33m,\u001b[0m \u001b[1;34m'rb'\u001b[0m\u001b[1;33m)\u001b[0m \u001b[1;32mas\u001b[0m \u001b[0mopened_file\u001b[0m\u001b[1;33m:\u001b[0m\u001b[1;33m\u001b[0m\u001b[1;33m\u001b[0m\u001b[0m\n\u001b[0m\u001b[0;32m    582\u001b[0m         \u001b[1;32mif\u001b[0m \u001b[0m_is_zipfile\u001b[0m\u001b[1;33m(\u001b[0m\u001b[0mopened_file\u001b[0m\u001b[1;33m)\u001b[0m\u001b[1;33m:\u001b[0m\u001b[1;33m\u001b[0m\u001b[1;33m\u001b[0m\u001b[0m\n\u001b[0;32m    583\u001b[0m             \u001b[1;31m# The zipfile reader is going to advance the current file position.\u001b[0m\u001b[1;33m\u001b[0m\u001b[1;33m\u001b[0m\u001b[1;33m\u001b[0m\u001b[0m\n",
      "\u001b[1;32mC:\\ProgramData\\Anaconda3\\lib\\site-packages\\torch\\serialization.py\u001b[0m in \u001b[0;36m_open_file_like\u001b[1;34m(name_or_buffer, mode)\u001b[0m\n\u001b[0;32m    228\u001b[0m \u001b[1;32mdef\u001b[0m \u001b[0m_open_file_like\u001b[0m\u001b[1;33m(\u001b[0m\u001b[0mname_or_buffer\u001b[0m\u001b[1;33m,\u001b[0m \u001b[0mmode\u001b[0m\u001b[1;33m)\u001b[0m\u001b[1;33m:\u001b[0m\u001b[1;33m\u001b[0m\u001b[1;33m\u001b[0m\u001b[0m\n\u001b[0;32m    229\u001b[0m     \u001b[1;32mif\u001b[0m \u001b[0m_is_path\u001b[0m\u001b[1;33m(\u001b[0m\u001b[0mname_or_buffer\u001b[0m\u001b[1;33m)\u001b[0m\u001b[1;33m:\u001b[0m\u001b[1;33m\u001b[0m\u001b[1;33m\u001b[0m\u001b[0m\n\u001b[1;32m--> 230\u001b[1;33m         \u001b[1;32mreturn\u001b[0m \u001b[0m_open_file\u001b[0m\u001b[1;33m(\u001b[0m\u001b[0mname_or_buffer\u001b[0m\u001b[1;33m,\u001b[0m \u001b[0mmode\u001b[0m\u001b[1;33m)\u001b[0m\u001b[1;33m\u001b[0m\u001b[1;33m\u001b[0m\u001b[0m\n\u001b[0m\u001b[0;32m    231\u001b[0m     \u001b[1;32melse\u001b[0m\u001b[1;33m:\u001b[0m\u001b[1;33m\u001b[0m\u001b[1;33m\u001b[0m\u001b[0m\n\u001b[0;32m    232\u001b[0m         \u001b[1;32mif\u001b[0m \u001b[1;34m'w'\u001b[0m \u001b[1;32min\u001b[0m \u001b[0mmode\u001b[0m\u001b[1;33m:\u001b[0m\u001b[1;33m\u001b[0m\u001b[1;33m\u001b[0m\u001b[0m\n",
      "\u001b[1;32mC:\\ProgramData\\Anaconda3\\lib\\site-packages\\torch\\serialization.py\u001b[0m in \u001b[0;36m__init__\u001b[1;34m(self, name, mode)\u001b[0m\n\u001b[0;32m    209\u001b[0m \u001b[1;32mclass\u001b[0m \u001b[0m_open_file\u001b[0m\u001b[1;33m(\u001b[0m\u001b[0m_opener\u001b[0m\u001b[1;33m)\u001b[0m\u001b[1;33m:\u001b[0m\u001b[1;33m\u001b[0m\u001b[1;33m\u001b[0m\u001b[0m\n\u001b[0;32m    210\u001b[0m     \u001b[1;32mdef\u001b[0m \u001b[0m__init__\u001b[0m\u001b[1;33m(\u001b[0m\u001b[0mself\u001b[0m\u001b[1;33m,\u001b[0m \u001b[0mname\u001b[0m\u001b[1;33m,\u001b[0m \u001b[0mmode\u001b[0m\u001b[1;33m)\u001b[0m\u001b[1;33m:\u001b[0m\u001b[1;33m\u001b[0m\u001b[1;33m\u001b[0m\u001b[0m\n\u001b[1;32m--> 211\u001b[1;33m         \u001b[0msuper\u001b[0m\u001b[1;33m(\u001b[0m\u001b[0m_open_file\u001b[0m\u001b[1;33m,\u001b[0m \u001b[0mself\u001b[0m\u001b[1;33m)\u001b[0m\u001b[1;33m.\u001b[0m\u001b[0m__init__\u001b[0m\u001b[1;33m(\u001b[0m\u001b[0mopen\u001b[0m\u001b[1;33m(\u001b[0m\u001b[0mname\u001b[0m\u001b[1;33m,\u001b[0m \u001b[0mmode\u001b[0m\u001b[1;33m)\u001b[0m\u001b[1;33m)\u001b[0m\u001b[1;33m\u001b[0m\u001b[1;33m\u001b[0m\u001b[0m\n\u001b[0m\u001b[0;32m    212\u001b[0m \u001b[1;33m\u001b[0m\u001b[0m\n\u001b[0;32m    213\u001b[0m     \u001b[1;32mdef\u001b[0m \u001b[0m__exit__\u001b[0m\u001b[1;33m(\u001b[0m\u001b[0mself\u001b[0m\u001b[1;33m,\u001b[0m \u001b[1;33m*\u001b[0m\u001b[0margs\u001b[0m\u001b[1;33m)\u001b[0m\u001b[1;33m:\u001b[0m\u001b[1;33m\u001b[0m\u001b[1;33m\u001b[0m\u001b[0m\n",
      "\u001b[1;31mFileNotFoundError\u001b[0m: [Errno 2] No such file or directory: '/content/drive/MyDrive/Colab Notebooks/unet_epoch50.pth'"
     ]
    }
   ],
   "source": [
    "# load saved model from google drive\n",
    "net.load_model('/content/drive/MyDrive/Colab Notebooks/unet_epoch50.pth')"
   ]
  },
  {
   "cell_type": "code",
   "execution_count": 16,
   "metadata": {},
   "outputs": [
    {
     "data": {
      "text/plain": [
       "Unet(\n",
       "  (downsample): downsample(\n",
       "    (down): Sequential(\n",
       "      (conv_down_0): convdown(\n",
       "        (conv): Sequential(\n",
       "          (conv_0): Sequential(\n",
       "            (0): Conv2d(1, 32, kernel_size=(3, 3), stride=(1, 1), padding=(1, 1))\n",
       "            (1): BatchNorm2d(32, eps=1e-05, momentum=0.1, affine=True, track_running_stats=True)\n",
       "            (2): ReLU(inplace=True)\n",
       "          )\n",
       "          (conv_1): Sequential(\n",
       "            (0): Conv2d(32, 32, kernel_size=(3, 3), stride=(1, 1), padding=(1, 1))\n",
       "            (1): BatchNorm2d(32, eps=1e-05, momentum=0.1, affine=True, track_running_stats=True)\n",
       "            (2): ReLU(inplace=True)\n",
       "          )\n",
       "        )\n",
       "      )\n",
       "      (conv_down_1): convdown(\n",
       "        (conv): Sequential(\n",
       "          (conv_0): Sequential(\n",
       "            (0): Conv2d(32, 64, kernel_size=(3, 3), stride=(1, 1), padding=(1, 1))\n",
       "            (1): BatchNorm2d(64, eps=1e-05, momentum=0.1, affine=True, track_running_stats=True)\n",
       "            (2): ReLU(inplace=True)\n",
       "          )\n",
       "          (conv_1): Sequential(\n",
       "            (0): Conv2d(64, 64, kernel_size=(3, 3), stride=(1, 1), padding=(1, 1))\n",
       "            (1): BatchNorm2d(64, eps=1e-05, momentum=0.1, affine=True, track_running_stats=True)\n",
       "            (2): ReLU(inplace=True)\n",
       "          )\n",
       "        )\n",
       "      )\n",
       "      (conv_down_2): convdown(\n",
       "        (conv): Sequential(\n",
       "          (conv_0): Sequential(\n",
       "            (0): Conv2d(64, 128, kernel_size=(3, 3), stride=(1, 1), padding=(1, 1))\n",
       "            (1): BatchNorm2d(128, eps=1e-05, momentum=0.1, affine=True, track_running_stats=True)\n",
       "            (2): ReLU(inplace=True)\n",
       "          )\n",
       "          (conv_1): Sequential(\n",
       "            (0): Conv2d(128, 128, kernel_size=(3, 3), stride=(1, 1), padding=(1, 1))\n",
       "            (1): BatchNorm2d(128, eps=1e-05, momentum=0.1, affine=True, track_running_stats=True)\n",
       "            (2): ReLU(inplace=True)\n",
       "          )\n",
       "        )\n",
       "      )\n",
       "      (conv_down_3): convdown(\n",
       "        (conv): Sequential(\n",
       "          (conv_0): Sequential(\n",
       "            (0): Conv2d(128, 256, kernel_size=(3, 3), stride=(1, 1), padding=(1, 1))\n",
       "            (1): BatchNorm2d(256, eps=1e-05, momentum=0.1, affine=True, track_running_stats=True)\n",
       "            (2): ReLU(inplace=True)\n",
       "          )\n",
       "          (conv_1): Sequential(\n",
       "            (0): Conv2d(256, 256, kernel_size=(3, 3), stride=(1, 1), padding=(1, 1))\n",
       "            (1): BatchNorm2d(256, eps=1e-05, momentum=0.1, affine=True, track_running_stats=True)\n",
       "            (2): ReLU(inplace=True)\n",
       "          )\n",
       "        )\n",
       "      )\n",
       "    )\n",
       "    (maxpool): MaxPool2d(kernel_size=2, stride=2, padding=0, dilation=1, ceil_mode=False)\n",
       "  )\n",
       "  (upsample): upsample(\n",
       "    (upsampling): Upsample(scale_factor=2.0, mode=nearest)\n",
       "    (up): Sequential(\n",
       "      (conv_up_3): convup(\n",
       "        (conv): Sequential(\n",
       "          (conv_0): Sequential(\n",
       "            (0): Conv2d(256, 256, kernel_size=(3, 3), stride=(1, 1), padding=(1, 1))\n",
       "            (1): BatchNorm2d(256, eps=1e-05, momentum=0.1, affine=True, track_running_stats=True)\n",
       "            (2): ReLU(inplace=True)\n",
       "          )\n",
       "          (conv_1): Sequential(\n",
       "            (0): Conv2d(256, 256, kernel_size=(3, 3), stride=(1, 1), padding=(1, 1))\n",
       "            (1): BatchNorm2d(256, eps=1e-05, momentum=0.1, affine=True, track_running_stats=True)\n",
       "            (2): ReLU(inplace=True)\n",
       "          )\n",
       "        )\n",
       "      )\n",
       "      (conv_up_2): convup(\n",
       "        (conv): Sequential(\n",
       "          (conv_0): Sequential(\n",
       "            (0): Conv2d(256, 128, kernel_size=(3, 3), stride=(1, 1), padding=(1, 1))\n",
       "            (1): BatchNorm2d(128, eps=1e-05, momentum=0.1, affine=True, track_running_stats=True)\n",
       "            (2): ReLU(inplace=True)\n",
       "          )\n",
       "          (conv_1): Sequential(\n",
       "            (0): Conv2d(128, 128, kernel_size=(3, 3), stride=(1, 1), padding=(1, 1))\n",
       "            (1): BatchNorm2d(128, eps=1e-05, momentum=0.1, affine=True, track_running_stats=True)\n",
       "            (2): ReLU(inplace=True)\n",
       "          )\n",
       "        )\n",
       "      )\n",
       "      (conv_up_1): convup(\n",
       "        (conv): Sequential(\n",
       "          (conv_0): Sequential(\n",
       "            (0): Conv2d(128, 64, kernel_size=(3, 3), stride=(1, 1), padding=(1, 1))\n",
       "            (1): BatchNorm2d(64, eps=1e-05, momentum=0.1, affine=True, track_running_stats=True)\n",
       "            (2): ReLU(inplace=True)\n",
       "          )\n",
       "          (conv_1): Sequential(\n",
       "            (0): Conv2d(64, 64, kernel_size=(3, 3), stride=(1, 1), padding=(1, 1))\n",
       "            (1): BatchNorm2d(64, eps=1e-05, momentum=0.1, affine=True, track_running_stats=True)\n",
       "            (2): ReLU(inplace=True)\n",
       "          )\n",
       "        )\n",
       "      )\n",
       "      (conv_up_0): convup(\n",
       "        (conv): Sequential(\n",
       "          (conv_0): Sequential(\n",
       "            (0): Conv2d(64, 32, kernel_size=(3, 3), stride=(1, 1), padding=(1, 1))\n",
       "            (1): BatchNorm2d(32, eps=1e-05, momentum=0.1, affine=True, track_running_stats=True)\n",
       "            (2): ReLU(inplace=True)\n",
       "          )\n",
       "          (conv_1): Sequential(\n",
       "            (0): Conv2d(32, 32, kernel_size=(3, 3), stride=(1, 1), padding=(1, 1))\n",
       "            (1): BatchNorm2d(32, eps=1e-05, momentum=0.1, affine=True, track_running_stats=True)\n",
       "            (2): ReLU(inplace=True)\n",
       "          )\n",
       "        )\n",
       "      )\n",
       "    )\n",
       "  )\n",
       "  (output): Conv2d(32, 2, kernel_size=(3, 3), stride=(1, 1), padding=(1, 1))\n",
       ")"
      ]
     },
     "execution_count": 16,
     "metadata": {},
     "output_type": "execute_result"
    }
   ],
   "source": [
    "# load saved model from local PC\n",
    "# net = Unet(nbase, nout, kernel_size) # build a new model\n",
    "net.load_state_dict(torch.load('unet_epoch50.pth',map_location=torch.device('cpu'))) # assign the saved parameters to the new model\n",
    "net.eval()"
   ]
  },
  {
   "cell_type": "code",
   "execution_count": 24,
   "metadata": {},
   "outputs": [],
   "source": [
    "net.load_model('unet_epoch50.pth')"
   ]
  },
  {
   "cell_type": "markdown",
   "metadata": {
    "execution": {},
    "id": "7A6abn8ksDTi"
   },
   "source": [
    "## Model architecture (u-net)\n",
    "\n",
    "A u-net is commonly used for biological image segmentation because its shape allows for local and global features to be combined to create highly-precise segmentations.\n",
    "\n",
    "A u-net is shaped like an autoencoder, it has:\n",
    "1. a standard convolutional network with downsampling, like one used for imagenet\n",
    "2. upsampling layers that ultimately return an image at the same size as the input image\n",
    "In addition to these downsampling and upsampling blocks, it has skip connections from the downsampling blocks TO the upsampling blocks, which allows it to propagate more precise local information to the later layers.\n",
    "\n",
    "adapted from [cellpose/resnet_torch.py](https://github.com/MouseLand/cellpose/blob/master/cellpose/resnet_torch.py).\n"
   ]
  },
  {
   "cell_type": "markdown",
   "metadata": {
    "execution": {},
    "id": "0aH49dTysDTo"
   },
   "source": [
    "### Define the network"
   ]
  },
  {
   "cell_type": "markdown",
   "metadata": {
    "execution": {},
    "id": "FhKOhLmcsDTq"
   },
   "source": [
    "### Train the network\n",
    "\n",
    "Here we've implemented code to train the network.\n",
    "\n",
    "Note we probably should be evaluating test performance throughout training -- implement that yourself."
   ]
  },
  {
   "cell_type": "markdown",
   "metadata": {
    "execution": {},
    "id": "WEkqIyX4sDTs"
   },
   "source": [
    "### Test performance\n",
    "\n",
    "Let's see how the network performs on a test image."
   ]
  },
  {
   "cell_type": "code",
   "execution_count": 60,
   "metadata": {
    "execution": {},
    "id": "7-x26V1AsDTt"
   },
   "outputs": [],
   "source": [
    "# @markdown Padding code for test images\n",
    "\n",
    "def pad_image_ND(img0, div=16, extra=1):\n",
    "  \"\"\" pad image for test-time so that its dimensions are a multiple of 16 (2D or 3D)\n",
    "\n",
    "  Parameters\n",
    "  -------------\n",
    "  img0: ND-array\n",
    "      image of size [nchan (x Lz) x Ly x Lx]\n",
    "  div: int (optional, default 16)\n",
    "\n",
    "  Returns\n",
    "  --------------\n",
    "  I: ND-array\n",
    "      padded image\n",
    "  slices: tuple, int\n",
    "      range of pixels in I corresponding to img0\n",
    "  \"\"\"\n",
    "  Lpad = int(div * np.ceil(img0.shape[-2] / div) - img0.shape[-2])\n",
    "  xpad1 = extra * div//2 + Lpad//2\n",
    "  xpad2 = extra * div//2 + Lpad - Lpad//2\n",
    "  Lpad = int(div * np.ceil(img0.shape[-1] / div) - img0.shape[-1])\n",
    "  ypad1 = extra * div//2 + Lpad//2\n",
    "  ypad2 = extra * div//2 + Lpad - Lpad//2\n",
    "\n",
    "  if img0.ndim > 3:\n",
    "    pads = np.array([[0, 0], [0, 0], [xpad1, xpad2], [ypad1, ypad2]])\n",
    "  else:\n",
    "    pads = np.array([[0, 0], [xpad1, xpad2], [ypad1, ypad2]])\n",
    "\n",
    "  I = np.pad(img0, pads, mode='constant')\n",
    "\n",
    "  Ly, Lx = img0.shape[-2:]\n",
    "  ysub = np.arange(xpad1, xpad1 + Ly)\n",
    "  xsub = np.arange(ypad1, ypad1 + Lx)\n",
    "  slc = [slice(0, img0.shape[n] + 1) for n in range(img0.ndim)]\n",
    "  slc[-3] = slice(0, img0.shape[-3] + 1)\n",
    "  slc[-2] = slice(ysub[0], ysub[-1] + 1)\n",
    "  slc[-1] = slice(xsub[0], xsub[-1] + 1)\n",
    "  slc = tuple(slc)\n",
    "\n",
    "  return I, slc"
   ]
  },
  {
   "cell_type": "code",
   "execution_count": 26,
   "metadata": {},
   "outputs": [
    {
     "name": "stdout",
     "output_type": "stream",
     "text": [
      "Fri Aug 13 08:44:46 2021       \n",
      "+-----------------------------------------------------------------------------+\n",
      "| NVIDIA-SMI 471.68       Driver Version: 471.68       CUDA Version: 11.4     |\n",
      "|-------------------------------+----------------------+----------------------+\n",
      "| GPU  Name            TCC/WDDM | Bus-Id        Disp.A | Volatile Uncorr. ECC |\n",
      "| Fan  Temp  Perf  Pwr:Usage/Cap|         Memory-Usage | GPU-Util  Compute M. |\n",
      "|                               |                      |               MIG M. |\n",
      "|===============================+======================+======================|\n",
      "|   0  NVIDIA GeForce ... WDDM  | 00000000:01:00.0  On |                  N/A |\n",
      "| N/A   55C    P8    15W /  N/A |   3540MiB /  8192MiB |     10%      Default |\n",
      "|                               |                      |                  N/A |\n",
      "+-------------------------------+----------------------+----------------------+\n",
      "                                                                               \n",
      "+-----------------------------------------------------------------------------+\n",
      "| Processes:                                                                  |\n",
      "|  GPU   GI   CI        PID   Type   Process name                  GPU Memory |\n",
      "|        ID   ID                                                   Usage      |\n",
      "|=============================================================================|\n",
      "|    0   N/A  N/A      1484    C+G   ...batNotificationClient.exe    N/A      |\n",
      "|    0   N/A  N/A      2184    C+G   ...\\app-1.0.9002\\Discord.exe    N/A      |\n",
      "|    0   N/A  N/A      3832    C+G   ...Roaming\\Zoom\\bin\\Zoom.exe    N/A      |\n",
      "|    0   N/A  N/A      4648    C+G   ...ropbox\\Client\\Dropbox.exe    N/A      |\n",
      "|    0   N/A  N/A      5272    C+G   ...obeNotificationClient.exe    N/A      |\n",
      "|    0   N/A  N/A     10892    C+G   ...perience\\NVIDIA Share.exe    N/A      |\n",
      "|    0   N/A  N/A     11676    C+G   ...bbwe\\Microsoft.Photos.exe    N/A      |\n",
      "|    0   N/A  N/A     12020    C+G   ...nputApp\\TextInputHost.exe    N/A      |\n",
      "|    0   N/A  N/A     13008    C+G   ...me\\Application\\chrome.exe    N/A      |\n",
      "|    0   N/A  N/A     13052    C+G   ....0.11.0\\GoogleDriveFS.exe    N/A      |\n",
      "|    0   N/A  N/A     13160      C   ...rLab\\Anaconda3\\python.exe    N/A      |\n",
      "|    0   N/A  N/A     16640    C+G   ...lack\\app-4.18.0\\slack.exe    N/A      |\n",
      "|    0   N/A  N/A     17972    C+G   ...ekyb3d8bbwe\\YourPhone.exe    N/A      |\n",
      "|    0   N/A  N/A     18560    C+G   ...cw5n1h2txyewy\\LockApp.exe    N/A      |\n",
      "|    0   N/A  N/A     20868    C+G   ...artMenuExperienceHost.exe    N/A      |\n",
      "|    0   N/A  N/A     21776    C+G   C:\\Windows\\explorer.exe         N/A      |\n",
      "|    0   N/A  N/A     24548    C+G   ...5n1h2txyewy\\SearchApp.exe    N/A      |\n",
      "|    0   N/A  N/A     24648    C+G   ...ming\\Zoom\\bin\\CptHost.exe    N/A      |\n",
      "|    0   N/A  N/A     25456    C+G   Insufficient Permissions        N/A      |\n",
      "|    0   N/A  N/A     27132    C+G   ...y\\ShellExperienceHost.exe    N/A      |\n",
      "+-----------------------------------------------------------------------------+\n"
     ]
    }
   ],
   "source": [
    "# torch.cuda.empty_cache()\n",
    "!nvidia-smi"
   ]
  },
  {
   "cell_type": "code",
   "execution_count": 35,
   "metadata": {
    "colab": {
     "base_uri": "https://localhost:8080/",
     "height": 314
    },
    "execution": {},
    "id": "YyNqdpyXsDTt",
    "outputId": "102f6f76-a047-4256-ef0b-fae404fddcd6"
   },
   "outputs": [
    {
     "name": "stdout",
     "output_type": "stream",
     "text": [
      "torch.Size([826, 1, 200, 200])\n"
     ]
    }
   ],
   "source": [
    "# compute results on test images\n",
    "# (note for unet to run correctly we need to pad images to be divisible by 2**(number of layers))\n",
    "# image = images_train[0]\n",
    "n = 5;\n",
    "image = resize(images_test)\n",
    "label = resize(label_test.astype(float)).astype(int)\n",
    "net.eval()\n",
    "img_torch = torch.tensor(image).to(device)\n",
    "img_torch = img_torch.to(torch.float32)\n",
    "#img_torch = torch.from_numpy(img_padded).to(device).unsqueeze(0)  # also need to add a first dimension\n",
    "print(img_torch.shape)\n",
    "out = net(img_torch[0:n])"
   ]
  },
  {
   "cell_type": "markdown",
   "metadata": {},
   "source": [
    "#  calculate seg for all images, TO DO"
   ]
  },
  {
   "cell_type": "code",
   "execution_count": 70,
   "metadata": {},
   "outputs": [
    {
     "data": {
      "image/png": "[encoded data removed]",
      "text/plain": [
       "<Figure size 576x864 with 30 Axes>"
      ]
     },
     "metadata": {
      "needs_background": "light"
     },
     "output_type": "display_data"
    }
   ],
   "source": [
    "from matplotlib import gridspec\n",
    "\n",
    "color_code = '#0699C8'#'#e377c2'\n",
    "color_code = '#006666'#'#e377c2'\n",
    "legend_pos = 'lower left'\n",
    "fig = plt.figure(figsize=(8,12))\n",
    "nrows=5;\n",
    "ncols=3;\n",
    "gs = gridspec.GridSpec(nrows, ncols,figure=fig)\n",
    "# gs.update(wspace=0.6, hspace=0.3) # set the spacing between axes. \n",
    "\n",
    "for rowIndx in range(nrows):\n",
    "    prediction = np.array(out[rowIndx].detach().cpu())\n",
    "    seg = np.argmax(prediction,axis=0)\n",
    "    for cIndx in range(ncols):\n",
    "        ax = fig.add_subplot(gs[rowIndx, cIndx]) \n",
    "        ax.axis('off')\n",
    "        if cIndx == 0:\n",
    "            plt.imshow(image[rowIndx][0], cmap = 'gray')\n",
    "            plt.colorbar(fraction=0.046, pad=0.04)\n",
    "            if rowIndx == 0:\n",
    "                plt.title('Normalized MRI')\n",
    "        if cIndx == 1: \n",
    "            plt.imshow(seg, cmap = 'gray')\n",
    "            plt.colorbar(fraction=0.046, pad=0.04)\n",
    "            if rowIndx == 0:\n",
    "                plt.title('Predicted seg.')\n",
    "        if cIndx == 2: \n",
    "            plt.imshow(label[rowIndx][0], cmap = 'gray')\n",
    "            plt.colorbar(fraction=0.046, pad=0.04)\n",
    "            if rowIndx == 0:\n",
    "                plt.title('True seg.')   \n",
    "plt.rc('font', family='sans-serif', serif='Helvetica')\n",
    "plt.suptitle('Example segmentation for test data (with augmentation)', fontsize = 15)\n",
    "plt.tight_layout()\n",
    "fig.subplots_adjust(top=0.92)\n",
    "plt.savefig('Example_with_augmentation.png', dpi=600,bbox_inches='tight')\n",
    "plt.savefig('Example_with_augmentation.svg', dpi=600,bbox_inches='tight')"
   ]
  },
  {
   "cell_type": "code",
   "execution_count": 78,
   "metadata": {},
   "outputs": [
    {
     "name": "stdout",
     "output_type": "stream",
     "text": [
      "(1, 200, 200) (200, 200)\n"
     ]
    }
   ],
   "source": [
    "print(label[0].shape, seg.shape)"
   ]
  },
  {
   "cell_type": "code",
   "execution_count": 77,
   "metadata": {
    "id": "jSdS4Fa0mFDE"
   },
   "outputs": [],
   "source": [
    "# Test network performance & plot performance metrics\n",
    "# https://scikit-learn.org/stable/modules/classes.html?highlight=metric#module-sklearn.metrics\n",
    "from sklearn.metrics import precision_score, accuracy_score, f1_score\n",
    "\n",
    "def compute_metrics(all_labels, all_segs): \n",
    "    \n",
    "    p = []\n",
    "    a = []\n",
    "    f = []\n",
    "    n = all_labels.shape[0]\n",
    "    for imgIndx in range(n):\n",
    "        p.append( precision_score(all_labels[imgIndx][0].flatten(), all_segs[imgIndx].flatten()) )\n",
    "        a.append( accuracy_score(all_labels[imgIndx][0].flatten(), all_segs[imgIndx].flatten()) )\n",
    "        f.append( f1_score(all_labels[imgIndx][0].flatten(), all_segs[imgIndx].flatten()) )\n",
    "    return p, a, f"
   ]
  },
  {
   "cell_type": "code",
   "execution_count": null,
   "metadata": {
    "id": "Q69wy4bGmFDE"
   },
   "outputs": [],
   "source": []
  },
  {
   "cell_type": "code",
   "execution_count": null,
   "metadata": {
    "id": "2pK-GuoKmFDE"
   },
   "outputs": [],
   "source": []
  },
  {
   "cell_type": "code",
   "execution_count": 43,
   "metadata": {
    "execution": {},
    "id": "UrnkzHQFsDTw"
   },
   "outputs": [],
   "source": [
    "# @markdown `average_precision` function\n",
    "def average_precision(masks_true, masks_pred, threshold=[0.5, 0.75, 0.9]):\n",
    "  \"\"\" average precision estimation: AP = TP / (TP + FP + FN)\n",
    "\n",
    "  This function is based heavily on the *fast* stardist matching functions\n",
    "  (https://github.com/mpicbg-csbd/stardist/blob/master/stardist/matching.py)\n",
    "\n",
    "  Parameters\n",
    "  ------------\n",
    "  masks_true: list of ND-arrays (int)\n",
    "      where 0=NO masks; 1,2... are mask labels\n",
    "  masks_pred: list of ND-arrays (int)\n",
    "      ND-array (int) where 0=NO masks; 1,2... are mask labels\n",
    "\n",
    "  Returns\n",
    "  ------------\n",
    "  ap: array [len(masks_true) x len(threshold)]\n",
    "      average precision at thresholds\n",
    "  tp: array [len(masks_true) x len(threshold)]\n",
    "      number of true positives at thresholds\n",
    "  fp: array [len(masks_true) x len(threshold)]\n",
    "      number of false positives at thresholds\n",
    "  fn: array [len(masks_true) x len(threshold)]\n",
    "      number of false negatives at thresholds\n",
    "  \"\"\"\n",
    "  if not isinstance(threshold, list) and not isinstance(threshold, np.ndarray):\n",
    "    threshold = [threshold]\n",
    "  ap  = np.zeros((len(masks_true), len(threshold)), np.float32)\n",
    "  tp  = np.zeros((len(masks_true), len(threshold)), np.float32)\n",
    "  fp  = np.zeros((len(masks_true), len(threshold)), np.float32)\n",
    "  fn  = np.zeros((len(masks_true), len(threshold)), np.float32)\n",
    "  n_true = np.array(list(map(np.max, masks_true)))\n",
    "  n_pred = np.array(list(map(np.max, masks_pred)))\n",
    "  for n in range(len(masks_true)):\n",
    "    #_,mt = np.reshape(np.unique(masks_true[n], return_index=True), masks_pred[n].shape)\n",
    "    if n_pred[n] > 0:\n",
    "      iou = _intersection_over_union(masks_true[n], masks_pred[n])[1:, 1:]\n",
    "      for k,th in enumerate(threshold):\n",
    "        tp[n,k] = _true_positive(iou, th)\n",
    "    fp[n] = n_pred[n] - tp[n]\n",
    "    fn[n] = n_true[n] - tp[n]\n",
    "    ap[n] = tp[n] / (tp[n] + fp[n] + fn[n])\n",
    "\n",
    "  return ap, tp, fp, fn\n",
    "\n",
    "\n",
    "@jit(nopython=True)\n",
    "def _label_overlap(x, y):\n",
    "  \"\"\" fast function to get pixel overlaps between masks in x and y\n",
    "\n",
    "  Parameters\n",
    "  ------------\n",
    "  x: ND-array, int\n",
    "      where 0=NO masks; 1,2... are mask labels\n",
    "  y: ND-array, int\n",
    "      where 0=NO masks; 1,2... are mask labels\n",
    "\n",
    "  Returns\n",
    "  ------------\n",
    "  overlap: ND-array, int\n",
    "      matrix of pixel overlaps of size [x.max()+1, y.max()+1]\n",
    "  \"\"\"\n",
    "  x = x.ravel()\n",
    "  y = y.ravel()\n",
    "  overlap = np.zeros((1 + x.max(), 1 + y.max()), dtype=np.uint)\n",
    "  for i in range(len(x)):\n",
    "    overlap[x[i], y[i]] += 1\n",
    "\n",
    "  return overlap\n",
    "\n",
    "\n",
    "def _intersection_over_union(masks_true, masks_pred):\n",
    "  \"\"\" intersection over union of all mask pairs\n",
    "\n",
    "  Parameters\n",
    "  ------------\n",
    "  masks_true: ND-array, int\n",
    "      ground truth masks, where 0=NO masks; 1,2... are mask labels\n",
    "  masks_pred: ND-array, int\n",
    "      predicted masks, where 0=NO masks; 1,2... are mask labels\n",
    "\n",
    "  Returns\n",
    "  ------------\n",
    "  iou: ND-array, float\n",
    "      matrix of IOU pairs of size [x.max()+1, y.max()+1]\n",
    "  \"\"\"\n",
    "  overlap = _label_overlap(masks_true, masks_pred)\n",
    "  n_pixels_pred = np.sum(overlap, axis=0, keepdims=True)\n",
    "  n_pixels_true = np.sum(overlap, axis=1, keepdims=True)\n",
    "  iou = overlap / (n_pixels_pred + n_pixels_true - overlap)\n",
    "  iou[np.isnan(iou)] = 0.0\n",
    "\n",
    "  return iou\n",
    "\n",
    "\n",
    "def _true_positive(iou, th):\n",
    "  \"\"\" true positive at threshold th\n",
    "\n",
    "  Parameters\n",
    "  ------------\n",
    "  iou: float, ND-array\n",
    "      array of IOU pairs\n",
    "  th: float\n",
    "      threshold on IOU for positive label\n",
    "\n",
    "  Returns\n",
    "  ------------\n",
    "  tp: float\n",
    "      number of true positives at threshold\n",
    "  \"\"\"\n",
    "  n_min = min(iou.shape[0], iou.shape[1])\n",
    "  costs = -(iou >= th).astype(float) - iou / (2 * n_min)\n",
    "  true_ind, pred_ind = linear_sum_assignment(costs)\n",
    "  match_ok = iou[true_ind, pred_ind] >= th\n",
    "  tp = match_ok.sum()\n",
    "\n",
    "  return tp"
   ]
  }
 ],
 "metadata": {
  "accelerator": "GPU",
  "colab": {
   "collapsed_sections": [],
   "name": "augmented_manatees.ipynb",
   "provenance": []
  },
  "kernel": {
   "display_name": "Python 3",
   "language": "python",
   "name": "python3"
  },
  "kernelspec": {
   "display_name": "Python 3",
   "language": "python",
   "name": "python3"
  },
  "language_info": {
   "codemirror_mode": {
    "name": "ipython",
    "version": 3
   },
   "file_extension": ".py",
   "mimetype": "text/x-python",
   "name": "python",
   "nbconvert_exporter": "python",
   "pygments_lexer": "ipython3",
   "version": "3.8.8"
  }
 },
 "nbformat": 4,
 "nbformat_minor": 1
}
