{
  "nbformat": 4,
  "nbformat_minor": 0,
  "metadata": {
    "accelerator": "GPU",
    "colab": {
      "name": "augmented_manatees.ipynb",
      "provenance": [],
      "collapsed_sections": []
    },
    "kernel": {
      "display_name": "Python 3",
      "language": "python",
      "name": "python3"
    },
    "kernelspec": {
      "display_name": "Python 3",
      "language": "python",
      "name": "python3"
    },
    "language_info": {
      "codemirror_mode": {
        "name": "ipython",
        "version": 3
      },
      "file_extension": ".py",
      "mimetype": "text/x-python",
      "name": "python",
      "nbconvert_exporter": "python",
      "pygments_lexer": "ipython3",
      "version": "3.8.8"
    }
  },
  "cells": [
    {
      "cell_type": "markdown",
      "metadata": {
        "execution": {},
        "id": "YMX72nfhsDTK"
      },
      "source": [
        "---\n",
        "# Setup"
      ]
    },
    {
      "cell_type": "code",
      "metadata": {
        "colab": {
          "base_uri": "https://localhost:8080/"
        },
        "id": "lzrBGB9grpCj",
        "outputId": "c11a8230-66c3-4ad2-cec9-db2af5193278"
      },
      "source": [
        "from google.colab import drive\n",
        "drive.mount('/content/drive')"
      ],
      "execution_count": 1,
      "outputs": [
        {
          "output_type": "stream",
          "text": [
            "Mounted at /content/drive\n"
          ],
          "name": "stdout"
        }
      ]
    },
    {
      "cell_type": "code",
      "metadata": {
        "colab": {
          "base_uri": "https://localhost:8080/"
        },
        "id": "W9czUylsxk8G",
        "outputId": "bf6f7f6f-d1f9-42d6-be25-aa9f6bc2e670"
      },
      "source": [
        "!nvidia-smi"
      ],
      "execution_count": 2,
      "outputs": [
        {
          "output_type": "stream",
          "text": [
            "Thu Aug 12 14:34:51 2021       \n",
            "+-----------------------------------------------------------------------------+\n",
            "| NVIDIA-SMI 470.42.01    Driver Version: 460.32.03    CUDA Version: 11.2     |\n",
            "|-------------------------------+----------------------+----------------------+\n",
            "| GPU  Name        Persistence-M| Bus-Id        Disp.A | Volatile Uncorr. ECC |\n",
            "| Fan  Temp  Perf  Pwr:Usage/Cap|         Memory-Usage | GPU-Util  Compute M. |\n",
            "|                               |                      |               MIG M. |\n",
            "|===============================+======================+======================|\n",
            "|   0  Tesla K80           Off  | 00000000:00:04.0 Off |                    0 |\n",
            "| N/A   35C    P8    28W / 149W |      0MiB / 11441MiB |      0%      Default |\n",
            "|                               |                      |                  N/A |\n",
            "+-------------------------------+----------------------+----------------------+\n",
            "                                                                               \n",
            "+-----------------------------------------------------------------------------+\n",
            "| Processes:                                                                  |\n",
            "|  GPU   GI   CI        PID   Type   Process name                  GPU Memory |\n",
            "|        ID   ID                                                   Usage      |\n",
            "|=============================================================================|\n",
            "|  No running processes found                                                 |\n",
            "+-----------------------------------------------------------------------------+\n"
          ],
          "name": "stdout"
        }
      ]
    },
    {
      "cell_type": "code",
      "metadata": {
        "cellView": "form",
        "execution": {},
        "id": "3OYFAZvOsDTL"
      },
      "source": [
        "# @title Install dependencies\n",
        "!pip install opencv-python==4.1.2.30 --quiet\n",
        "!pip install numba --quiet"
      ],
      "execution_count": 3,
      "outputs": []
    },
    {
      "cell_type": "code",
      "metadata": {
        "execution": {},
        "id": "rFcxziY5sDTN"
      },
      "source": [
        "# Imports\n",
        "import os\n",
        "import cv2\n",
        "import tqdm\n",
        "import hashlib\n",
        "import requests\n",
        "\n",
        "import numpy as np\n",
        "import matplotlib.pyplot as plt\n",
        "\n",
        "import torch\n",
        "import torch.nn as nn\n",
        "import torch.nn.functional as F\n",
        "\n",
        "from numba import jit\n",
        "\n",
        "from scipy.ndimage import gaussian_filter\n",
        "from scipy.ndimage import find_objects, binary_fill_holes\n",
        "from scipy.ndimage import generate_binary_structure, label\n",
        "from scipy.optimize import linear_sum_assignment\n",
        "\n",
        "# Our import functions\n",
        "import glob\n",
        "import matplotlib.image as mpimg\n",
        "from pathlib import Path"
      ],
      "execution_count": 4,
      "outputs": []
    },
    {
      "cell_type": "markdown",
      "metadata": {
        "execution": {},
        "id": "BPMdqs5xsDTO"
      },
      "source": [
        "---\n",
        "# Intro to segmentation + denoising"
      ]
    },
    {
      "cell_type": "markdown",
      "metadata": {
        "execution": {},
        "id": "IJW1nvH7sDTV"
      },
      "source": [
        "## Data loading"
      ]
    },
    {
      "cell_type": "code",
      "metadata": {
        "id": "WJD9zfvamFC8"
      },
      "source": [
        "# # Define working directory\n",
        "# working_dir = os.getcwd()        \n",
        "# data_path = os.path.join(working_dir,'data')\n",
        "\n",
        "# # Extract names of image files (as strings)\n",
        "# original_names = []\n",
        "# label_names = {'L':[],'R':[]}\n",
        "\n",
        "# for root, dirs, files in os.walk(data_path):\n",
        "#      for file in files:\n",
        "#         with open(os.path.join(root, file), \"r\") as auto:\n",
        "#             if 'label' in root:\n",
        "#                 if '_L' in file:\n",
        "#                     label_names['L'].append(os.path.join(root, file))\n",
        "#                 if '_R' in file:\n",
        "#                     label_names['R'].append(os.path.join(root, file)) \n",
        "                    \n",
        "#             elif 'original' in root:\n",
        "#                 original_names.append(os.path.join(root, file))\n",
        "\n",
        "# original_names.sort(key=lambda f: int(\"\".join(filter(str.isdigit, f))))\n",
        "# label_names['L'].sort(key=lambda f: int(\"\".join(filter(str.isdigit, f))))\n",
        "# label_names['R'].sort(key=lambda f: int(\"\".join(filter(str.isdigit, f))))"
      ],
      "execution_count": null,
      "outputs": []
    },
    {
      "cell_type": "code",
      "metadata": {
        "id": "hG0GRE_xmFC8"
      },
      "source": [
        "# # Load images from image names\n",
        "# original_images = []\n",
        "# label_images = []\n",
        "# filtered_image_names = []\n",
        "\n",
        "# def binarize(img,threshold=100):\n",
        "#     # make all pixels < threshold black\n",
        "#     binarized = img > threshold\n",
        "#     return binarized\n",
        "\n",
        "# def get_label_name(image_name,hemisphere):\n",
        "#     id_s = Path(image_name).name.split('_')[-1]\n",
        "#     s = Path(image_name).name.split('_')[0:5]\n",
        "#     if hemisphere == 'L':\n",
        "#         s = '_'.join(s) + '_L_' + id_s\n",
        "#     elif hemisphere == 'R':\n",
        "#         s = '_'.join(s) + '_R_' + id_s\n",
        "#     return s\n",
        "\n",
        "# blank = 0\n",
        "\n",
        "# for image_name in original_names:\n",
        "#     img = mpimg.imread(image_name)\n",
        "#     if np.max(img) > 10:        \n",
        "#         name_R = get_label_name(image_name,'R')\n",
        "#         name_L = get_label_name(image_name,'L')\n",
        "\n",
        "#         path_L = list(filter(lambda x: name_L in x, label_names['L']))\n",
        "#         path_R = list(filter(lambda x: name_R in x, label_names['R']))\n",
        "        \n",
        "#         if len(path_R) != 0: # if both R and L label images exist          \n",
        "#             img_L = mpimg.imread(path_L[0])\n",
        "#             img_R = mpimg.imread(path_R[0])            \n",
        "#             label_image = binarize(img_L[:,:,0]) + binarize(img_R[:,:,0])\n",
        "                        \n",
        "#             # Crop images and remove any that don't contain hippocampus            \n",
        "#             if np.max(label_image) == 1:\n",
        "#                 label_images.append(label_image[18:215,:])\n",
        "#                 original_images.append(img[18:215,:,0])\n",
        "#                 filtered_image_names.append(image_name)\n",
        "#                 blank = 1\n",
        "\n",
        "#             elif blank == 1:\n",
        "#                 label_images.append(label_image[18:215,:])\n",
        "#                 original_images.append(img[18:215,:,0])\n",
        "#                 filtered_image_names.append(image_name)  \n",
        "#                 blank = 0\n",
        "                                \n",
        "# original_images = np.array(original_images)\n",
        "# label_images = np.array(label_images)"
      ],
      "execution_count": null,
      "outputs": []
    },
    {
      "cell_type": "code",
      "metadata": {
        "id": "xx_vrEXIoJ4J"
      },
      "source": [
        "original_images=np.load('/content/drive/MyDrive/Colab Notebooks/images.npy')\n",
        "label_images=np.load('/content/drive/MyDrive/Colab Notebooks/labels.npy')"
      ],
      "execution_count": 6,
      "outputs": []
    },
    {
      "cell_type": "code",
      "metadata": {
        "id": "UM3ME7t5xk8K",
        "outputId": "0a2f069c-1022-4b0b-9c65-2b69169f2d5a"
      },
      "source": [
        "original_images.shape, label_images.shape"
      ],
      "execution_count": null,
      "outputs": [
        {
          "output_type": "execute_result",
          "data": {
            "text/plain": [
              "((4130, 197, 197), (4130, 197, 197))"
            ]
          },
          "metadata": {
            "tags": []
          },
          "execution_count": 12
        }
      ]
    },
    {
      "cell_type": "code",
      "metadata": {
        "id": "xIn4YD62mFC-"
      },
      "source": [
        "# Split dataset into train and test set\n",
        "from sklearn.model_selection import train_test_split\n",
        "\n",
        "label_images_abs = np.max(label_images,axis=(1,2))\n",
        "\n",
        "images_train, images_test, label_train, label_test = train_test_split(original_images, label_images, \n",
        "                                                    test_size=0.2, random_state=42, stratify=label_images_abs)\n",
        "\n",
        "label_train_abs = np.max(label_train,axis=(1,2))\n",
        "images_train, images_val, label_train, label_val = train_test_split(images_train, label_train, \n",
        "                                                    test_size=0.2, random_state=42, stratify=label_train_abs)\n",
        "\n",
        "images_train = np.expand_dims(images_train, axis=1)\n",
        "images_val = np.expand_dims(images_val, axis=1)\n",
        "images_test = np.expand_dims(images_test, axis=1)\n",
        "\n",
        "label_train = np.expand_dims(label_train, axis=1)\n",
        "label_val = np.expand_dims(label_val, axis=1)\n",
        "label_test = np.expand_dims(label_test, axis=1)\n"
      ],
      "execution_count": 7,
      "outputs": []
    },
    {
      "cell_type": "code",
      "metadata": {
        "id": "g2vDgWLBmFC_"
      },
      "source": [
        "# Normalize images (zero mean, std=1)\n",
        "mean_train = np.mean(images_train)\n",
        "std_train = np.std(images_train)\n",
        "\n",
        "images_train = (images_train - mean_train) / std_train\n",
        "images_val = (images_val - mean_train) / std_train\n",
        "images_test = (images_test - mean_train) / std_train"
      ],
      "execution_count": 8,
      "outputs": []
    },
    {
      "cell_type": "code",
      "metadata": {
        "id": "Btg3wqcUmFC_"
      },
      "source": [
        "# Load images into pytorch DataLoader"
      ],
      "execution_count": null,
      "outputs": []
    },
    {
      "cell_type": "code",
      "metadata": {
        "id": "5egNRwUamFDA"
      },
      "source": [
        "# Train U-Net segmentation network\n",
        "\n",
        "# Class imbalance problem:\n",
        "# Since there are many images with no hippocampus, we want to count these images less towards the loss\n",
        "\n",
        "# When calculating the loss on each forward pass:\n",
        "# LOSS = 0.85 * mean(loss(x_with, y_with)) + 0.15 * mean(loss(x_without, y_without))"
      ],
      "execution_count": null,
      "outputs": []
    },
    {
      "cell_type": "code",
      "metadata": {
        "id": "h2yCSxvumFDA"
      },
      "source": [
        "def convbatchrelu(in_channels, out_channels, sz):\n",
        "  return nn.Sequential(\n",
        "      nn.Conv2d(in_channels, out_channels, sz, padding=sz//2),\n",
        "      nn.BatchNorm2d(out_channels, eps=1e-5),\n",
        "      nn.ReLU(inplace=True),\n",
        "      )\n",
        "\n",
        "\n",
        "class convdown(nn.Module):\n",
        "  def __init__(self, in_channels, out_channels, kernel_size):\n",
        "    super().__init__()\n",
        "    self.conv = nn.Sequential()\n",
        "    for t in range(2):\n",
        "      if t == 0:\n",
        "        self.conv.add_module('conv_%d'%t,\n",
        "                             convbatchrelu(in_channels,\n",
        "                                           out_channels,\n",
        "                                           kernel_size))\n",
        "      else:\n",
        "        self.conv.add_module('conv_%d'%t,\n",
        "                             convbatchrelu(out_channels,\n",
        "                                           out_channels,\n",
        "                                           kernel_size))\n",
        "\n",
        "  def forward(self, x):\n",
        "    x = self.conv[0](x)\n",
        "    x = self.conv[1](x)\n",
        "    return x\n",
        "\n",
        "\n",
        "class downsample(nn.Module):\n",
        "  def __init__(self, nbase, kernel_size):\n",
        "    super().__init__()\n",
        "    self.down = nn.Sequential()\n",
        "    self.maxpool = nn.MaxPool2d(2, 2)\n",
        "    for n in range(len(nbase) - 1):\n",
        "      self.down.add_module('conv_down_%d'%n,\n",
        "                           convdown(nbase[n],\n",
        "                                    nbase[n + 1],\n",
        "                                    kernel_size))\n",
        "\n",
        "  def forward(self, x):\n",
        "    xd = []\n",
        "    for n in range(len(self.down)):\n",
        "      if n > 0:\n",
        "        y = self.maxpool(xd[n - 1])\n",
        "      else:\n",
        "        y = x\n",
        "      xd.append(self.down[n](y))\n",
        "    return xd\n",
        "\n",
        "\n",
        "class convup(nn.Module):\n",
        "  def __init__(self, in_channels, out_channels, kernel_size):\n",
        "    super().__init__()\n",
        "    self.conv = nn.Sequential()\n",
        "    self.conv.add_module('conv_0', convbatchrelu(in_channels,\n",
        "                                                 out_channels,\n",
        "                                                 kernel_size))\n",
        "    self.conv.add_module('conv_1', convbatchrelu(out_channels,\n",
        "                                                 out_channels,\n",
        "                                                 kernel_size))\n",
        "\n",
        "  def forward(self, x, y):\n",
        "    #print(x.shape, y.shape)\n",
        "    x = self.conv[0](x)\n",
        "    x = self.conv[1](x + y)\n",
        "    return x\n",
        "\n",
        "\n",
        "class upsample(nn.Module):\n",
        "  def __init__(self, nbase, kernel_size):\n",
        "    super().__init__()\n",
        "    self.upsampling = nn.Upsample(scale_factor=2, mode='nearest')\n",
        "    self.up = nn.Sequential()\n",
        "    for n in range(len(nbase) - 1 , 0, -1):\n",
        "      self.up.add_module('conv_up_%d'%(n - 1),\n",
        "              convup(nbase[n], nbase[n - 1], kernel_size))\n",
        "\n",
        "  def forward(self, xd):\n",
        "    x = xd[-1]\n",
        "    for n in range(0, len(self.up)):\n",
        "      if n > 0:\n",
        "        x = self.upsampling(x)\n",
        "      x = self.up[n](x, xd[len(xd) - 1 - n])\n",
        "    return x\n",
        "\n",
        "\n",
        "class Unet(nn.Module):\n",
        "  def __init__(self, nbase, nout, kernel_size):\n",
        "    super(Unet, self).__init__()\n",
        "    self.nbase = nbase\n",
        "    self.nout = nout\n",
        "    self.kernel_size = kernel_size\n",
        "    self.downsample = downsample(nbase, kernel_size)\n",
        "    nbaseup = nbase[1:]\n",
        "    nbaseup.append(nbase[-1])\n",
        "    self.upsample = upsample(nbaseup, kernel_size)\n",
        "    self.output = nn.Conv2d(nbase[1], self.nout, kernel_size,\n",
        "                            padding=kernel_size//2)\n",
        "\n",
        "  def forward(self, data):\n",
        "    T0 = self.downsample(data)\n",
        "    T0 = self.upsample(T0)\n",
        "    T0 = self.output(T0)\n",
        "    return T0\n",
        "\n",
        "  def save_model(self, filename):\n",
        "    torch.save(self.state_dict(), filename)\n",
        "\n",
        "  def load_model(self, filename, cpu=False):\n",
        "    if not cpu:\n",
        "      self.load_state_dict(torch.load(filename))\n",
        "    else:\n",
        "      self.__init__(self.nbase,\n",
        "                    self.nout,\n",
        "                    self.kernel_size,\n",
        "                    self.concatenation)\n",
        "\n",
        "      self.load_state_dict(torch.load(filename,\n",
        "                                      map_location=torch.device('cpu')))"
      ],
      "execution_count": 9,
      "outputs": []
    },
    {
      "cell_type": "code",
      "metadata": {
        "colab": {
          "base_uri": "https://localhost:8080/"
        },
        "id": "JKhoVTB-OnB4",
        "outputId": "e54ae491-17a0-4443-ba68-e8ac88999ea3"
      },
      "source": [
        "myunet=Unet(nbase=[1,32,64,128,256], nout=2, kernel_size=3)\n",
        "print(myunet)"
      ],
      "execution_count": 76,
      "outputs": [
        {
          "output_type": "stream",
          "text": [
            "Unet(\n",
            "  (downsample): downsample(\n",
            "    (down): Sequential(\n",
            "      (conv_down_0): convdown(\n",
            "        (conv): Sequential(\n",
            "          (conv_0): Sequential(\n",
            "            (0): Conv2d(1, 32, kernel_size=(3, 3), stride=(1, 1), padding=(1, 1))\n",
            "            (1): BatchNorm2d(32, eps=1e-05, momentum=0.1, affine=True, track_running_stats=True)\n",
            "            (2): ReLU(inplace=True)\n",
            "          )\n",
            "          (conv_1): Sequential(\n",
            "            (0): Conv2d(32, 32, kernel_size=(3, 3), stride=(1, 1), padding=(1, 1))\n",
            "            (1): BatchNorm2d(32, eps=1e-05, momentum=0.1, affine=True, track_running_stats=True)\n",
            "            (2): ReLU(inplace=True)\n",
            "          )\n",
            "        )\n",
            "      )\n",
            "      (conv_down_1): convdown(\n",
            "        (conv): Sequential(\n",
            "          (conv_0): Sequential(\n",
            "            (0): Conv2d(32, 64, kernel_size=(3, 3), stride=(1, 1), padding=(1, 1))\n",
            "            (1): BatchNorm2d(64, eps=1e-05, momentum=0.1, affine=True, track_running_stats=True)\n",
            "            (2): ReLU(inplace=True)\n",
            "          )\n",
            "          (conv_1): Sequential(\n",
            "            (0): Conv2d(64, 64, kernel_size=(3, 3), stride=(1, 1), padding=(1, 1))\n",
            "            (1): BatchNorm2d(64, eps=1e-05, momentum=0.1, affine=True, track_running_stats=True)\n",
            "            (2): ReLU(inplace=True)\n",
            "          )\n",
            "        )\n",
            "      )\n",
            "      (conv_down_2): convdown(\n",
            "        (conv): Sequential(\n",
            "          (conv_0): Sequential(\n",
            "            (0): Conv2d(64, 128, kernel_size=(3, 3), stride=(1, 1), padding=(1, 1))\n",
            "            (1): BatchNorm2d(128, eps=1e-05, momentum=0.1, affine=True, track_running_stats=True)\n",
            "            (2): ReLU(inplace=True)\n",
            "          )\n",
            "          (conv_1): Sequential(\n",
            "            (0): Conv2d(128, 128, kernel_size=(3, 3), stride=(1, 1), padding=(1, 1))\n",
            "            (1): BatchNorm2d(128, eps=1e-05, momentum=0.1, affine=True, track_running_stats=True)\n",
            "            (2): ReLU(inplace=True)\n",
            "          )\n",
            "        )\n",
            "      )\n",
            "      (conv_down_3): convdown(\n",
            "        (conv): Sequential(\n",
            "          (conv_0): Sequential(\n",
            "            (0): Conv2d(128, 256, kernel_size=(3, 3), stride=(1, 1), padding=(1, 1))\n",
            "            (1): BatchNorm2d(256, eps=1e-05, momentum=0.1, affine=True, track_running_stats=True)\n",
            "            (2): ReLU(inplace=True)\n",
            "          )\n",
            "          (conv_1): Sequential(\n",
            "            (0): Conv2d(256, 256, kernel_size=(3, 3), stride=(1, 1), padding=(1, 1))\n",
            "            (1): BatchNorm2d(256, eps=1e-05, momentum=0.1, affine=True, track_running_stats=True)\n",
            "            (2): ReLU(inplace=True)\n",
            "          )\n",
            "        )\n",
            "      )\n",
            "    )\n",
            "    (maxpool): MaxPool2d(kernel_size=2, stride=2, padding=0, dilation=1, ceil_mode=False)\n",
            "  )\n",
            "  (upsample): upsample(\n",
            "    (upsampling): Upsample(scale_factor=2.0, mode=nearest)\n",
            "    (up): Sequential(\n",
            "      (conv_up_3): convup(\n",
            "        (conv): Sequential(\n",
            "          (conv_0): Sequential(\n",
            "            (0): Conv2d(256, 256, kernel_size=(3, 3), stride=(1, 1), padding=(1, 1))\n",
            "            (1): BatchNorm2d(256, eps=1e-05, momentum=0.1, affine=True, track_running_stats=True)\n",
            "            (2): ReLU(inplace=True)\n",
            "          )\n",
            "          (conv_1): Sequential(\n",
            "            (0): Conv2d(256, 256, kernel_size=(3, 3), stride=(1, 1), padding=(1, 1))\n",
            "            (1): BatchNorm2d(256, eps=1e-05, momentum=0.1, affine=True, track_running_stats=True)\n",
            "            (2): ReLU(inplace=True)\n",
            "          )\n",
            "        )\n",
            "      )\n",
            "      (conv_up_2): convup(\n",
            "        (conv): Sequential(\n",
            "          (conv_0): Sequential(\n",
            "            (0): Conv2d(256, 128, kernel_size=(3, 3), stride=(1, 1), padding=(1, 1))\n",
            "            (1): BatchNorm2d(128, eps=1e-05, momentum=0.1, affine=True, track_running_stats=True)\n",
            "            (2): ReLU(inplace=True)\n",
            "          )\n",
            "          (conv_1): Sequential(\n",
            "            (0): Conv2d(128, 128, kernel_size=(3, 3), stride=(1, 1), padding=(1, 1))\n",
            "            (1): BatchNorm2d(128, eps=1e-05, momentum=0.1, affine=True, track_running_stats=True)\n",
            "            (2): ReLU(inplace=True)\n",
            "          )\n",
            "        )\n",
            "      )\n",
            "      (conv_up_1): convup(\n",
            "        (conv): Sequential(\n",
            "          (conv_0): Sequential(\n",
            "            (0): Conv2d(128, 64, kernel_size=(3, 3), stride=(1, 1), padding=(1, 1))\n",
            "            (1): BatchNorm2d(64, eps=1e-05, momentum=0.1, affine=True, track_running_stats=True)\n",
            "            (2): ReLU(inplace=True)\n",
            "          )\n",
            "          (conv_1): Sequential(\n",
            "            (0): Conv2d(64, 64, kernel_size=(3, 3), stride=(1, 1), padding=(1, 1))\n",
            "            (1): BatchNorm2d(64, eps=1e-05, momentum=0.1, affine=True, track_running_stats=True)\n",
            "            (2): ReLU(inplace=True)\n",
            "          )\n",
            "        )\n",
            "      )\n",
            "      (conv_up_0): convup(\n",
            "        (conv): Sequential(\n",
            "          (conv_0): Sequential(\n",
            "            (0): Conv2d(64, 32, kernel_size=(3, 3), stride=(1, 1), padding=(1, 1))\n",
            "            (1): BatchNorm2d(32, eps=1e-05, momentum=0.1, affine=True, track_running_stats=True)\n",
            "            (2): ReLU(inplace=True)\n",
            "          )\n",
            "          (conv_1): Sequential(\n",
            "            (0): Conv2d(32, 32, kernel_size=(3, 3), stride=(1, 1), padding=(1, 1))\n",
            "            (1): BatchNorm2d(32, eps=1e-05, momentum=0.1, affine=True, track_running_stats=True)\n",
            "            (2): ReLU(inplace=True)\n",
            "          )\n",
            "        )\n",
            "      )\n",
            "    )\n",
            "  )\n",
            "  (output): Conv2d(32, 2, kernel_size=(3, 3), stride=(1, 1), padding=(1, 1))\n",
            ")\n"
          ],
          "name": "stdout"
        }
      ]
    },
    {
      "cell_type": "code",
      "metadata": {
        "colab": {
          "base_uri": "https://localhost:8080/"
        },
        "id": "Lj_aZu5cQXR5",
        "outputId": "e68f938a-3c83-46ef-8953-9fad8e837463"
      },
      "source": [
        "xi=torch.zeros([1,1,200,200],dtype=torch.float32)\n",
        "xo=myunet(xi)\n",
        "xo.shape"
      ],
      "execution_count": 86,
      "outputs": [
        {
          "output_type": "execute_result",
          "data": {
            "text/plain": [
              "torch.Size([1, 2, 200, 200])"
            ]
          },
          "metadata": {
            "tags": []
          },
          "execution_count": 86
        }
      ]
    },
    {
      "cell_type": "code",
      "metadata": {
        "id": "WV6w9MpcmFDA"
      },
      "source": [
        "def random_rotate_and_resize(X, Y=None, scale_range=0.5, xy=(224, 224),\n",
        "                             do_flip=True): # change to (200,200), which is /2**3 \n",
        "  \"\"\"\n",
        "  Augmentation by random rotation and resizing\n",
        "\n",
        "  X and Y are lists or arrays of length nimg, with dims channels x Ly x Lx (channels optional)\n",
        "\n",
        "  Parameters\n",
        "  ----------\n",
        "  X: ND-array, float\n",
        "    list of IMAGE arrays of size [nchan x Ly x Lx] or [Ly x Lx]\n",
        "\n",
        "  Y: ND-array, float or int (optional, default None)\n",
        "    list of MASK arrays of size [nlabels x Ly x Lx] or [Ly x Lx].\n",
        "    ** These labels are nearest neighbor interpolated\n",
        "    ** CHANGE IF USING FLOAT LABELS\n",
        "\n",
        "  scale_range: float (optional, default 1.0)\n",
        "    Range of resizing of images for augmentation. Images are resized by\n",
        "    (1-scale_range/2) + scale_range * np.random.rand()\n",
        "\n",
        "  xy: tuple, int (optional, default (224,224))\n",
        "    size of transformed images to return\n",
        "\n",
        "  do_flip: bool (optional, default True)\n",
        "    whether or not to flip images horizontally\n",
        "\n",
        "  Returns\n",
        "  -------\n",
        "  imgi: ND-array, float\n",
        "    transformed images in array [nimg x nchan x xy[0] x xy[1]]\n",
        "\n",
        "  lbl: ND-array, float\n",
        "    transformed labels in array [nimg x nchan x xy[0] x xy[1]]\n",
        "\n",
        "  scale: array, float\n",
        "    amount each image was resized by\n",
        "  \"\"\"\n",
        "\n",
        "  scale_range = max(0, min(2, float(scale_range)))\n",
        "  nimg = len(X)\n",
        "  if X[0].ndim > 2:\n",
        "    nchan = X[0].shape[0]\n",
        "  else:\n",
        "    nchan = 1\n",
        "  imgi  = np.zeros((nimg, nchan, xy[0], xy[1]), np.float32)\n",
        "\n",
        "  lbl = []\n",
        "  if Y is not None:\n",
        "    if Y[0].ndim > 2:\n",
        "      nt = Y[0].shape[0]\n",
        "    else:\n",
        "      nt = 1\n",
        "    lbl = np.zeros((nimg, nt, xy[0], xy[1]), Y.dtype)\n",
        "\n",
        "  scale = np.zeros(nimg, np.float32)\n",
        "  for n in range(nimg):\n",
        "    Ly, Lx = X[n].shape[-2:]\n",
        "\n",
        "    # generate random augmentation parameters\n",
        "    flip = np.random.rand() > .5\n",
        "    theta = np.random.rand() * np.pi * 2\n",
        "    scale[n] = (1 - scale_range / 2) + scale_range * np.random.rand()\n",
        "    dxy = np.maximum(0, np.array([Lx*scale[n] - xy[1], Ly * scale[n] - xy[0]]))\n",
        "    dxy = (np.random.rand(2,) - .5) * dxy\n",
        "\n",
        "    # create affine transform\n",
        "    cc = np.array([Lx / 2, Ly / 2])\n",
        "    cc1 = cc - np.array([Lx - xy[1], Ly - xy[0]]) / 2 + dxy\n",
        "    pts1 = np.float32([cc, cc + np.array([1, 0]), cc + np.array([0, 1])])\n",
        "    pts2 = np.float32([cc1,\n",
        "            cc1 + scale[n]*np.array([np.cos(theta), np.sin(theta)]),\n",
        "            cc1 + scale[n]*np.array([np.cos(np.pi/2 + theta),\n",
        "                                     np.sin(np.pi/2 + theta)])])\n",
        "\n",
        "    M = cv2.getAffineTransform(pts1, pts2)\n",
        "\n",
        "    img = X[n].copy()\n",
        "    if Y is not None:\n",
        "      labels = Y[n].copy()\n",
        "      if labels.ndim < 3:\n",
        "        labels = labels[np.newaxis, :, :]\n",
        "\n",
        "    if flip and do_flip:\n",
        "      img = img[..., ::-1]\n",
        "      if Y is not None:\n",
        "        labels = labels[..., ::-1]\n",
        "\n",
        "    for k in range(nchan):\n",
        "      I = cv2.warpAffine(img[k], M, (xy[1], xy[0]), flags=cv2.INTER_LINEAR)\n",
        "      imgi[n,k] = I\n",
        "\n",
        "    if Y is not None:\n",
        "      for k in range(nt):\n",
        "        # ** nearest neighbor interpolation **\n",
        "        # may need to change for float labels\n",
        "        lbl[n,k] = cv2.warpAffine(labels[k], M, (xy[1],xy[0]),\n",
        "                                  flags=cv2.INTER_NEAREST)\n",
        "\n",
        "  return imgi, lbl, scale"
      ],
      "execution_count": 10,
      "outputs": []
    },
    {
      "cell_type": "code",
      "metadata": {
        "colab": {
          "base_uri": "https://localhost:8080/"
        },
        "id": "XqDHB8MUxk8P",
        "outputId": "146d640d-78d8-465c-958f-4ea9fc980f87"
      },
      "source": [
        "# set random seed \n",
        "import random\n",
        "def set_seed(seed=None, seed_torch=True):\n",
        "  if seed is None:\n",
        "    seed = np.random.choice(2 ** 32)\n",
        "  random.seed(seed)\n",
        "  np.random.seed(seed)\n",
        "  if seed_torch:\n",
        "    torch.manual_seed(seed)\n",
        "    torch.cuda.manual_seed_all(seed)\n",
        "    torch.cuda.manual_seed(seed)\n",
        "    torch.backends.cudnn.benchmark = False\n",
        "    torch.backends.cudnn.deterministic = True\n",
        "\n",
        "  print(f'Random seed {seed} has been set.')\n",
        "\n",
        "\n",
        "# In case that `DataLoader` is used\n",
        "def seed_worker(worker_id):\n",
        "  worker_seed = torch.initial_seed() % 2**32\n",
        "  np.random.seed(worker_seed)\n",
        "  random.seed(worker_seed)\n",
        "\n",
        "SEED = 2021\n",
        "set_seed(seed=SEED)"
      ],
      "execution_count": 12,
      "outputs": [
        {
          "output_type": "stream",
          "text": [
            "Random seed 2021 has been set.\n"
          ],
          "name": "stdout"
        }
      ]
    },
    {
      "cell_type": "code",
      "metadata": {
        "id": "jOXXQrH3mFDB"
      },
      "source": [
        "kernel_size = 3\n",
        "nbase = [1, 32, 64, 128, 256]  # number of channels per layer\n",
        "nout = 2  # number of outputs\n",
        "\n",
        "net = Unet(nbase, nout, kernel_size)\n",
        "# put on GPU here if you have it\n",
        "device = 'cuda' if torch.cuda.is_available() else 'cpu'\n",
        "net.to(device);  # remove semi-colon to see net structure"
      ],
      "execution_count": 13,
      "outputs": []
    },
    {
      "cell_type": "code",
      "metadata": {
        "colab": {
          "base_uri": "https://localhost:8080/"
        },
        "id": "dtfeJ9XXmFDB",
        "outputId": "65408f2d-99c6-4467-8d6f-3aa6598e0247"
      },
      "source": [
        "\n",
        "from datetime import datetime\n",
        "\n",
        "# train the network\n",
        "# parameters related to training the network\n",
        "batch_size = 8 # number of images per batch -- amount of required memory\n",
        "              # for training will increase linearly in batchsize\n",
        "### you will want to increase n_epochs!\n",
        "n_epochs = 50  # number of times to cycle through all the data during training\n",
        "learning_rate = 0.1 # initial learning rate\n",
        "weight_decay = 1e-5 # L2 regularization of weights\n",
        "momentum = 0.9 # how much to use previous gradient direction\n",
        "n_epochs_per_save = 25 # how often to save the network\n",
        "val_frac = 0.05 # what fraction of data to use for validation\n",
        "augmentation = True\n",
        "\n",
        "\n",
        "# where to save the network\n",
        "# make sure to clean these out every now and then, as you will run out of space\n",
        "now = datetime.now()\n",
        "timestamp = now.strftime('%Y%m%dT%H%M%S')\n",
        "\n",
        "n_train = images_train.shape[0]\n",
        "n_val = images_val.shape[0]\n",
        "\n",
        "# gradient descent flavor\n",
        "optimizer = torch.optim.SGD(net.parameters(),\n",
        "                            lr=learning_rate,\n",
        "                            weight_decay=weight_decay,\n",
        "                            momentum=0.9)\n",
        "\n",
        "# set learning rate schedule\n",
        "LR = np.linspace(0, learning_rate, 10)\n",
        "if n_epochs > 250:\n",
        "    LR = np.append(LR, learning_rate*np.ones(n_epochs-100))\n",
        "    for i in range(10):\n",
        "        LR = np.append(LR, LR[-1]/2 * np.ones(10))\n",
        "else:\n",
        "    LR = np.append(LR, learning_rate * np.ones(max(0, n_epochs - 10)))\n",
        "\n",
        "criterion = nn.CrossEntropyLoss()\n",
        "\n",
        "# store loss per epoch\n",
        "epoch_losses = np.zeros(n_epochs)\n",
        "epoch_losses[:] = np.nan\n",
        "val_losses = np.zeros(n_epochs)\n",
        "val_losses[:] = np.nan\n",
        "\n",
        "# when we last saved the network\n",
        "saveepoch = None\n",
        "\n",
        "# loop through entire training data set nepochs times\n",
        "for epoch in range(n_epochs):\n",
        "\n",
        "  epoch_loss = 0\n",
        "  val_loss=0\n",
        "  iters = 0\n",
        "  for param_group in optimizer.param_groups:\n",
        "    param_group['lr'] = LR[epoch]\n",
        "  with tqdm.tqdm(total=n_train, desc=f\"Epoch {epoch + 1}/{n_epochs}\", unit='img') as pbar:\n",
        "    # loop through each batch in the training data\n",
        "    net.train() # put in train mode (affects batchnorm)\n",
        "    for ibatch in np.arange(0, n_train, batch_size):\n",
        "      # augment the data\n",
        "      inds = np.arange(ibatch, min(n_train, ibatch+batch_size))\n",
        "      if augmentation == True:\n",
        "        imgs, lbls, _ = random_rotate_and_resize(images_train[inds],label_train[inds].astype(int))\n",
        "      else: \n",
        "        imgs = images_train[inds]\n",
        "        lbls = label_train[inds].astype(int)\n",
        "\n",
        "      # transfer to torch + GPU\n",
        "      imgs = torch.from_numpy(imgs).to(device=device)\n",
        "      lbls = torch.from_numpy(lbls).to(device=device)\n",
        "      imgs = imgs.to(dtype=torch.float32)\n",
        "      lbls = lbls.to(dtype=torch.int64)\n",
        "\n",
        "      # compute the loss\n",
        "      y = net(imgs)\n",
        "      loss = criterion(y, lbls[:, 0])\n",
        "      epoch_loss += loss.item()\n",
        "      pbar.set_postfix(**{'loss (batch)': loss.item()})\n",
        "      # gradient descent\n",
        "      optimizer.zero_grad()\n",
        "      loss.backward()\n",
        "      #nn.utils.clip_grad_value_(net.parameters(), 0.1)\n",
        "      optimizer.step()\n",
        "      iters+=1\n",
        "      pbar.update(imgs.shape[0])\n",
        "\n",
        "    net.eval()  \n",
        "\n",
        "    for ibatch in np.arange(0,n_val,batch_size):\n",
        "      inds = np.arange(ibatch, min(n_val, ibatch+batch_size))\n",
        "      if augmentation == True:\n",
        "        imgs_val, lbls_val, _ = random_rotate_and_resize(images_val[inds],label_val[inds].astype(int))\n",
        "      imgs_val = torch.from_numpy(imgs_val).to(device=device)\n",
        "      lbls_val = torch.from_numpy(lbls_val).to(device=device)\n",
        "      imgs_val = imgs_val.to(dtype=torch.float32)\n",
        "      lbls_val = lbls_val.to(dtype=torch.int64)  \n",
        "      output = net(imgs_val)\n",
        "      loss = criterion(output,lbls_val[:, 0])\n",
        "      val_loss+=loss.item()\n",
        "      pbar.set_postfix(**{'val (batch)': loss.item()})\n",
        "\n",
        "  # Setting up mean loss: n_val/batch_size= total number of batches\n",
        "    epoch_losses[epoch] = epoch_loss/(n_train/batch_size)\n",
        "    val_losses[epoch] = val_loss/(n_val/batch_size)\n",
        "    \n",
        "    pbar.set_postfix(**{'loss (epoch)': epoch_loss,'Val (epoch)': val_loss})  #.update('loss (epoch) = %f'%epoch_loss)\n",
        "\n",
        "  # save checkpoint networks every now and then\n",
        "  if epoch % n_epochs_per_save == 0:\n",
        "    print(f\"\\nSaving network state at epoch {epoch+1}\")\n",
        "    saveepoch = epoch\n",
        "    savefile = f\"unet_epoch{saveepoch+1}.pth\"\n",
        "    net.save_model(savefile)\n",
        "print(f\"\\nSaving network state at epoch {epoch+1}\")\n",
        "net.save_model(f\"unet_epoch{epoch+1}.pth\")"
      ],
      "execution_count": null,
      "outputs": [
        {
          "output_type": "stream",
          "text": [
            "Epoch 1/50: 100%|██████████| 2643/2643 [00:54<00:00, 48.32img/s, Val (epoch)=81.4, loss (epoch)=326]\n",
            "Epoch 2/50:   0%|          | 0/2643 [00:00<?, ?img/s, loss (batch)=0.977]"
          ],
          "name": "stderr"
        },
        {
          "output_type": "stream",
          "text": [
            "\n",
            "Saving network state at epoch 1\n"
          ],
          "name": "stdout"
        },
        {
          "output_type": "stream",
          "text": [
            "Epoch 2/50: 100%|██████████| 2643/2643 [00:53<00:00, 49.74img/s, Val (epoch)=1.08, loss (epoch)=7.14]\n",
            "Epoch 3/50: 100%|██████████| 2643/2643 [00:53<00:00, 49.54img/s, Val (epoch)=1.17, loss (epoch)=3.82]\n",
            "Epoch 4/50: 100%|██████████| 2643/2643 [00:53<00:00, 49.17img/s, Val (epoch)=1.21, loss (epoch)=3.15]\n",
            "Epoch 5/50: 100%|██████████| 2643/2643 [00:54<00:00, 48.78img/s, Val (epoch)=0.725, loss (epoch)=2.71]\n",
            "Epoch 6/50: 100%|██████████| 2643/2643 [00:54<00:00, 48.60img/s, Val (epoch)=0.569, loss (epoch)=2.33]\n",
            "Epoch 7/50: 100%|██████████| 2643/2643 [00:53<00:00, 49.39img/s, Val (epoch)=0.495, loss (epoch)=2.11]\n",
            "Epoch 8/50: 100%|██████████| 2643/2643 [00:53<00:00, 49.39img/s, Val (epoch)=0.434, loss (epoch)=1.9]\n",
            "Epoch 9/50: 100%|██████████| 2643/2643 [00:53<00:00, 49.45img/s, Val (epoch)=0.405, loss (epoch)=1.67]\n",
            "Epoch 10/50: 100%|██████████| 2643/2643 [00:54<00:00, 48.59img/s, Val (epoch)=0.406, loss (epoch)=1.64]\n",
            "Epoch 11/50: 100%|██████████| 2643/2643 [00:54<00:00, 48.60img/s, Val (epoch)=0.371, loss (epoch)=1.44]\n",
            "Epoch 12/50: 100%|██████████| 2643/2643 [00:54<00:00, 48.59img/s, Val (epoch)=0.329, loss (epoch)=1.34]\n",
            "Epoch 13/50: 100%|██████████| 2643/2643 [00:54<00:00, 48.57img/s, Val (epoch)=0.351, loss (epoch)=1.36]\n",
            "Epoch 14/50: 100%|██████████| 2643/2643 [00:54<00:00, 48.67img/s, Val (epoch)=0.301, loss (epoch)=1.23]\n",
            "Epoch 15/50: 100%|██████████| 2643/2643 [00:54<00:00, 48.64img/s, Val (epoch)=0.294, loss (epoch)=1.17]\n",
            "Epoch 16/50: 100%|██████████| 2643/2643 [00:54<00:00, 48.58img/s, Val (epoch)=0.287, loss (epoch)=1.14]\n",
            "Epoch 17/50: 100%|██████████| 2643/2643 [00:54<00:00, 48.52img/s, Val (epoch)=0.283, loss (epoch)=1.13]\n",
            "Epoch 18/50: 100%|██████████| 2643/2643 [00:54<00:00, 48.42img/s, Val (epoch)=0.289, loss (epoch)=1.08]\n",
            "Epoch 19/50: 100%|██████████| 2643/2643 [00:52<00:00, 50.15img/s, Val (epoch)=0.284, loss (epoch)=1.1]\n",
            "Epoch 20/50: 100%|██████████| 2643/2643 [00:52<00:00, 50.45img/s, Val (epoch)=0.262, loss (epoch)=1.07]\n",
            "Epoch 21/50: 100%|██████████| 2643/2643 [00:53<00:00, 49.24img/s, Val (epoch)=0.268, loss (epoch)=1.05]\n",
            "Epoch 22/50: 100%|██████████| 2643/2643 [00:54<00:00, 48.75img/s, Val (epoch)=0.263, loss (epoch)=1.02]\n",
            "Epoch 23/50: 100%|██████████| 2643/2643 [00:54<00:00, 48.43img/s, Val (epoch)=0.27, loss (epoch)=1.03]\n",
            "Epoch 24/50: 100%|██████████| 2643/2643 [00:54<00:00, 48.11img/s, Val (epoch)=0.26, loss (epoch)=1.02]\n",
            "Epoch 25/50: 100%|██████████| 2643/2643 [00:53<00:00, 49.13img/s, Val (epoch)=0.262, loss (epoch)=0.994]\n",
            "Epoch 26/50: 100%|██████████| 2643/2643 [00:53<00:00, 49.29img/s, Val (epoch)=0.255, loss (epoch)=0.998]\n",
            "Epoch 27/50:   0%|          | 0/2643 [00:00<?, ?img/s, loss (batch)=0.00604]"
          ],
          "name": "stderr"
        },
        {
          "output_type": "stream",
          "text": [
            "\n",
            "Saving network state at epoch 26\n"
          ],
          "name": "stdout"
        },
        {
          "output_type": "stream",
          "text": [
            "Epoch 27/50: 100%|██████████| 2643/2643 [00:53<00:00, 49.48img/s, Val (epoch)=0.25, loss (epoch)=0.986]\n",
            "Epoch 28/50: 100%|██████████| 2643/2643 [00:53<00:00, 49.79img/s, Val (epoch)=0.251, loss (epoch)=0.989]\n",
            "Epoch 29/50: 100%|██████████| 2643/2643 [00:54<00:00, 48.34img/s, Val (epoch)=0.248, loss (epoch)=0.974]\n",
            "Epoch 30/50: 100%|██████████| 2643/2643 [00:54<00:00, 48.66img/s, Val (epoch)=0.247, loss (epoch)=0.976]\n",
            "Epoch 31/50: 100%|██████████| 2643/2643 [00:54<00:00, 48.35img/s, Val (epoch)=0.254, loss (epoch)=0.959]\n",
            "Epoch 32/50: 100%|██████████| 2643/2643 [00:54<00:00, 48.49img/s, Val (epoch)=0.242, loss (epoch)=0.963]\n",
            "Epoch 33/50: 100%|██████████| 2643/2643 [00:53<00:00, 49.08img/s, Val (epoch)=0.249, loss (epoch)=0.945]\n",
            "Epoch 34/50: 100%|██████████| 2643/2643 [00:53<00:00, 49.30img/s, Val (epoch)=0.243, loss (epoch)=0.955]\n",
            "Epoch 35/50: 100%|██████████| 2643/2643 [00:53<00:00, 49.14img/s, Val (epoch)=0.251, loss (epoch)=0.938]\n",
            "Epoch 36/50: 100%|██████████| 2643/2643 [00:53<00:00, 49.19img/s, Val (epoch)=0.243, loss (epoch)=0.949]\n",
            "Epoch 37/50: 100%|██████████| 2643/2643 [00:53<00:00, 49.09img/s, Val (epoch)=0.244, loss (epoch)=0.949]\n",
            "Epoch 38/50: 100%|██████████| 2643/2643 [00:53<00:00, 49.04img/s, Val (epoch)=0.236, loss (epoch)=0.935]\n",
            "Epoch 39/50: 100%|██████████| 2643/2643 [00:53<00:00, 49.09img/s, Val (epoch)=0.241, loss (epoch)=0.921]\n",
            "Epoch 40/50: 100%|██████████| 2643/2643 [00:53<00:00, 49.06img/s, Val (epoch)=0.244, loss (epoch)=0.932]\n",
            "Epoch 41/50: 100%|██████████| 2643/2643 [00:53<00:00, 49.28img/s, Val (epoch)=0.24, loss (epoch)=0.909]\n",
            "Epoch 42/50: 100%|██████████| 2643/2643 [00:54<00:00, 48.30img/s, Val (epoch)=0.232, loss (epoch)=0.91]\n",
            "Epoch 43/50: 100%|██████████| 2643/2643 [00:54<00:00, 48.43img/s, Val (epoch)=0.249, loss (epoch)=0.905]\n",
            "Epoch 44/50: 100%|██████████| 2643/2643 [00:54<00:00, 48.34img/s, Val (epoch)=0.239, loss (epoch)=0.905]\n",
            "Epoch 45/50: 100%|██████████| 2643/2643 [00:54<00:00, 48.35img/s, Val (epoch)=0.243, loss (epoch)=0.909]\n",
            "Epoch 46/50: 100%|██████████| 2643/2643 [00:53<00:00, 48.96img/s, Val (epoch)=0.239, loss (epoch)=0.912]\n",
            "Epoch 47/50: 100%|██████████| 2643/2643 [00:54<00:00, 48.83img/s, Val (epoch)=0.231, loss (epoch)=0.888]\n",
            "Epoch 48/50: 100%|██████████| 2643/2643 [00:53<00:00, 49.17img/s, Val (epoch)=0.242, loss (epoch)=0.897]\n",
            "Epoch 49/50: 100%|██████████| 2643/2643 [00:48<00:00, 54.32img/s, Val (epoch)=0.233, loss (epoch)=0.893]\n",
            "Epoch 50/50: 100%|██████████| 2643/2643 [00:52<00:00, 50.62img/s, val (batch)=0.00419]  "
          ],
          "name": "stderr"
        }
      ]
    },
    {
      "cell_type": "code",
      "metadata": {
        "colab": {
          "base_uri": "https://localhost:8080/"
        },
        "id": "Tc98VfeCtwHm",
        "outputId": "bd7bbbfb-1811-4d54-bd41-d9ffe2eae973"
      },
      "source": [
        "output.shape, lbls_val.shape, lbls.shape, images_train.shape, imgs.shape,inds"
      ],
      "execution_count": null,
      "outputs": [
        {
          "output_type": "execute_result",
          "data": {
            "text/plain": [
              "(torch.Size([8, 2, 224, 224]),\n",
              " torch.Size([8, 1, 224, 224]),\n",
              " (8, 1, 224, 224),\n",
              " (2557, 1, 197, 197),\n",
              " (8, 1, 224, 224),\n",
              " array([640, 641, 642, 643, 644, 645, 646, 647]))"
            ]
          },
          "metadata": {
            "tags": []
          },
          "execution_count": 34
        }
      ]
    },
    {
      "cell_type": "code",
      "metadata": {
        "colab": {
          "base_uri": "https://localhost:8080/",
          "height": 300
        },
        "id": "zTWDbTbj5cXr",
        "outputId": "8346b11a-b816-4dc9-e124-cf96fdb7c4f2"
      },
      "source": [
        "def plot_loss(epoch_losses, val_losses):\n",
        "    plt.plot(epoch_losses,'r')\n",
        "    plt.plot(val_losses,'b')\n",
        "    plt.xlabel('Epochs')\n",
        "    plt.ylabel('Losses')\n",
        "    plt.ylim([0,np.max([epoch_losses, val_losses])])"
      ],
      "execution_count": null,
      "outputs": [
        {
          "output_type": "execute_result",
          "data": {
            "text/plain": [
              "(0.0, 3.0)"
            ]
          },
          "metadata": {
            "tags": []
          },
          "execution_count": 52
        },
        {
          "output_type": "display_data",
          "data": {
            "image/png": "[encoded data removed]",
            "text/plain": [
              "<Figure size 432x288 with 1 Axes>"
            ]
          },
          "metadata": {
            "tags": [],
            "needs_background": "light"
          }
        }
      ]
    },
    {
      "cell_type": "code",
      "metadata": {
        "id": "WGNrg7MXmFDC"
      },
      "source": [
        "# Every epoch: compute validation loss & store it\n",
        "\n",
        "# plot the training loss and the validation loss over epochs\n"
      ],
      "execution_count": null,
      "outputs": []
    },
    {
      "cell_type": "code",
      "metadata": {
        "id": "2rsrrCvazzG4"
      },
      "source": [
        "net.load_model('/content/drive/MyDrive/Colab Notebooks/unet_epoch50.pth')"
      ],
      "execution_count": 18,
      "outputs": []
    },
    {
      "cell_type": "code",
      "metadata": {
        "colab": {
          "base_uri": "https://localhost:8080/"
        },
        "id": "R5UBlbUZ0GBV",
        "outputId": "dd0a578f-bf48-4cb6-8e42-e8a6c5aff85e"
      },
      "source": [
        "print(net.parameters)"
      ],
      "execution_count": 19,
      "outputs": [
        {
          "output_type": "stream",
          "text": [
            "<bound method Module.parameters of Unet(\n",
            "  (downsample): downsample(\n",
            "    (down): Sequential(\n",
            "      (conv_down_0): convdown(\n",
            "        (conv): Sequential(\n",
            "          (conv_0): Sequential(\n",
            "            (0): Conv2d(1, 32, kernel_size=(3, 3), stride=(1, 1), padding=(1, 1))\n",
            "            (1): BatchNorm2d(32, eps=1e-05, momentum=0.1, affine=True, track_running_stats=True)\n",
            "            (2): ReLU(inplace=True)\n",
            "          )\n",
            "          (conv_1): Sequential(\n",
            "            (0): Conv2d(32, 32, kernel_size=(3, 3), stride=(1, 1), padding=(1, 1))\n",
            "            (1): BatchNorm2d(32, eps=1e-05, momentum=0.1, affine=True, track_running_stats=True)\n",
            "            (2): ReLU(inplace=True)\n",
            "          )\n",
            "        )\n",
            "      )\n",
            "      (conv_down_1): convdown(\n",
            "        (conv): Sequential(\n",
            "          (conv_0): Sequential(\n",
            "            (0): Conv2d(32, 64, kernel_size=(3, 3), stride=(1, 1), padding=(1, 1))\n",
            "            (1): BatchNorm2d(64, eps=1e-05, momentum=0.1, affine=True, track_running_stats=True)\n",
            "            (2): ReLU(inplace=True)\n",
            "          )\n",
            "          (conv_1): Sequential(\n",
            "            (0): Conv2d(64, 64, kernel_size=(3, 3), stride=(1, 1), padding=(1, 1))\n",
            "            (1): BatchNorm2d(64, eps=1e-05, momentum=0.1, affine=True, track_running_stats=True)\n",
            "            (2): ReLU(inplace=True)\n",
            "          )\n",
            "        )\n",
            "      )\n",
            "      (conv_down_2): convdown(\n",
            "        (conv): Sequential(\n",
            "          (conv_0): Sequential(\n",
            "            (0): Conv2d(64, 128, kernel_size=(3, 3), stride=(1, 1), padding=(1, 1))\n",
            "            (1): BatchNorm2d(128, eps=1e-05, momentum=0.1, affine=True, track_running_stats=True)\n",
            "            (2): ReLU(inplace=True)\n",
            "          )\n",
            "          (conv_1): Sequential(\n",
            "            (0): Conv2d(128, 128, kernel_size=(3, 3), stride=(1, 1), padding=(1, 1))\n",
            "            (1): BatchNorm2d(128, eps=1e-05, momentum=0.1, affine=True, track_running_stats=True)\n",
            "            (2): ReLU(inplace=True)\n",
            "          )\n",
            "        )\n",
            "      )\n",
            "      (conv_down_3): convdown(\n",
            "        (conv): Sequential(\n",
            "          (conv_0): Sequential(\n",
            "            (0): Conv2d(128, 256, kernel_size=(3, 3), stride=(1, 1), padding=(1, 1))\n",
            "            (1): BatchNorm2d(256, eps=1e-05, momentum=0.1, affine=True, track_running_stats=True)\n",
            "            (2): ReLU(inplace=True)\n",
            "          )\n",
            "          (conv_1): Sequential(\n",
            "            (0): Conv2d(256, 256, kernel_size=(3, 3), stride=(1, 1), padding=(1, 1))\n",
            "            (1): BatchNorm2d(256, eps=1e-05, momentum=0.1, affine=True, track_running_stats=True)\n",
            "            (2): ReLU(inplace=True)\n",
            "          )\n",
            "        )\n",
            "      )\n",
            "    )\n",
            "    (maxpool): MaxPool2d(kernel_size=2, stride=2, padding=0, dilation=1, ceil_mode=False)\n",
            "  )\n",
            "  (upsample): upsample(\n",
            "    (upsampling): Upsample(scale_factor=2.0, mode=nearest)\n",
            "    (up): Sequential(\n",
            "      (conv_up_3): convup(\n",
            "        (conv): Sequential(\n",
            "          (conv_0): Sequential(\n",
            "            (0): Conv2d(256, 256, kernel_size=(3, 3), stride=(1, 1), padding=(1, 1))\n",
            "            (1): BatchNorm2d(256, eps=1e-05, momentum=0.1, affine=True, track_running_stats=True)\n",
            "            (2): ReLU(inplace=True)\n",
            "          )\n",
            "          (conv_1): Sequential(\n",
            "            (0): Conv2d(256, 256, kernel_size=(3, 3), stride=(1, 1), padding=(1, 1))\n",
            "            (1): BatchNorm2d(256, eps=1e-05, momentum=0.1, affine=True, track_running_stats=True)\n",
            "            (2): ReLU(inplace=True)\n",
            "          )\n",
            "        )\n",
            "      )\n",
            "      (conv_up_2): convup(\n",
            "        (conv): Sequential(\n",
            "          (conv_0): Sequential(\n",
            "            (0): Conv2d(256, 128, kernel_size=(3, 3), stride=(1, 1), padding=(1, 1))\n",
            "            (1): BatchNorm2d(128, eps=1e-05, momentum=0.1, affine=True, track_running_stats=True)\n",
            "            (2): ReLU(inplace=True)\n",
            "          )\n",
            "          (conv_1): Sequential(\n",
            "            (0): Conv2d(128, 128, kernel_size=(3, 3), stride=(1, 1), padding=(1, 1))\n",
            "            (1): BatchNorm2d(128, eps=1e-05, momentum=0.1, affine=True, track_running_stats=True)\n",
            "            (2): ReLU(inplace=True)\n",
            "          )\n",
            "        )\n",
            "      )\n",
            "      (conv_up_1): convup(\n",
            "        (conv): Sequential(\n",
            "          (conv_0): Sequential(\n",
            "            (0): Conv2d(128, 64, kernel_size=(3, 3), stride=(1, 1), padding=(1, 1))\n",
            "            (1): BatchNorm2d(64, eps=1e-05, momentum=0.1, affine=True, track_running_stats=True)\n",
            "            (2): ReLU(inplace=True)\n",
            "          )\n",
            "          (conv_1): Sequential(\n",
            "            (0): Conv2d(64, 64, kernel_size=(3, 3), stride=(1, 1), padding=(1, 1))\n",
            "            (1): BatchNorm2d(64, eps=1e-05, momentum=0.1, affine=True, track_running_stats=True)\n",
            "            (2): ReLU(inplace=True)\n",
            "          )\n",
            "        )\n",
            "      )\n",
            "      (conv_up_0): convup(\n",
            "        (conv): Sequential(\n",
            "          (conv_0): Sequential(\n",
            "            (0): Conv2d(64, 32, kernel_size=(3, 3), stride=(1, 1), padding=(1, 1))\n",
            "            (1): BatchNorm2d(32, eps=1e-05, momentum=0.1, affine=True, track_running_stats=True)\n",
            "            (2): ReLU(inplace=True)\n",
            "          )\n",
            "          (conv_1): Sequential(\n",
            "            (0): Conv2d(32, 32, kernel_size=(3, 3), stride=(1, 1), padding=(1, 1))\n",
            "            (1): BatchNorm2d(32, eps=1e-05, momentum=0.1, affine=True, track_running_stats=True)\n",
            "            (2): ReLU(inplace=True)\n",
            "          )\n",
            "        )\n",
            "      )\n",
            "    )\n",
            "  )\n",
            "  (output): Conv2d(32, 2, kernel_size=(3, 3), stride=(1, 1), padding=(1, 1))\n",
            ")>\n"
          ],
          "name": "stdout"
        }
      ]
    },
    {
      "cell_type": "markdown",
      "metadata": {
        "execution": {},
        "id": "7A6abn8ksDTi"
      },
      "source": [
        "## Model architecture (u-net)\n",
        "\n",
        "A u-net is commonly used for biological image segmentation because its shape allows for local and global features to be combined to create highly-precise segmentations.\n",
        "\n",
        "A u-net is shaped like an autoencoder, it has:\n",
        "1. a standard convolutional network with downsampling, like one used for imagenet\n",
        "2. upsampling layers that ultimately return an image at the same size as the input image\n",
        "In addition to these downsampling and upsampling blocks, it has skip connections from the downsampling blocks TO the upsampling blocks, which allows it to propagate more precise local information to the later layers.\n",
        "\n",
        "adapted from [cellpose/resnet_torch.py](https://github.com/MouseLand/cellpose/blob/master/cellpose/resnet_torch.py).\n"
      ]
    },
    {
      "cell_type": "markdown",
      "metadata": {
        "execution": {},
        "id": "0aH49dTysDTo"
      },
      "source": [
        "### Define the network"
      ]
    },
    {
      "cell_type": "markdown",
      "metadata": {
        "execution": {},
        "id": "FhKOhLmcsDTq"
      },
      "source": [
        "### Train the network\n",
        "\n",
        "Here we've implemented code to train the network.\n",
        "\n",
        "Note we probably should be evaluating test performance throughout training -- implement that yourself."
      ]
    },
    {
      "cell_type": "markdown",
      "metadata": {
        "execution": {},
        "id": "WEkqIyX4sDTs"
      },
      "source": [
        "### Test performance\n",
        "\n",
        "Let's see how the network performs on a test image."
      ]
    },
    {
      "cell_type": "code",
      "metadata": {
        "execution": {},
        "id": "7-x26V1AsDTt"
      },
      "source": [
        "# @markdown Padding code for test images\n",
        "\n",
        "def pad_image_ND(img0, div=16, extra=1):\n",
        "  \"\"\" pad image for test-time so that its dimensions are a multiple of 16 (2D or 3D)\n",
        "\n",
        "  Parameters\n",
        "  -------------\n",
        "  img0: ND-array\n",
        "      image of size [nchan (x Lz) x Ly x Lx]\n",
        "  div: int (optional, default 16)\n",
        "\n",
        "  Returns\n",
        "  --------------\n",
        "  I: ND-array\n",
        "      padded image\n",
        "  slices: tuple, int\n",
        "      range of pixels in I corresponding to img0\n",
        "  \"\"\"\n",
        "  Lpad = int(div * np.ceil(img0.shape[-2] / div) - img0.shape[-2])\n",
        "  xpad1 = extra * div//2 + Lpad//2\n",
        "  xpad2 = extra * div//2 + Lpad - Lpad//2\n",
        "  Lpad = int(div * np.ceil(img0.shape[-1] / div) - img0.shape[-1])\n",
        "  ypad1 = extra * div//2 + Lpad//2\n",
        "  ypad2 = extra * div//2 + Lpad - Lpad//2\n",
        "\n",
        "  if img0.ndim > 3:\n",
        "    pads = np.array([[0, 0], [0, 0], [xpad1, xpad2], [ypad1, ypad2]])\n",
        "  else:\n",
        "    pads = np.array([[0, 0], [xpad1, xpad2], [ypad1, ypad2]])\n",
        "\n",
        "  I = np.pad(img0, pads, mode='constant')\n",
        "\n",
        "  Ly, Lx = img0.shape[-2:]\n",
        "  ysub = np.arange(xpad1, xpad1 + Ly)\n",
        "  xsub = np.arange(ypad1, ypad1 + Lx)\n",
        "  slc = [slice(0, img0.shape[n] + 1) for n in range(img0.ndim)]\n",
        "  slc[-3] = slice(0, img0.shape[-3] + 1)\n",
        "  slc[-2] = slice(ysub[0], ysub[-1] + 1)\n",
        "  slc[-1] = slice(xsub[0], xsub[-1] + 1)\n",
        "  slc = tuple(slc)\n",
        "\n",
        "  return I, slc"
      ],
      "execution_count": 23,
      "outputs": []
    },
    {
      "cell_type": "code",
      "metadata": {
        "id": "DtvZnI2ymFDD"
      },
      "source": [
        "out.shape[]"
      ],
      "execution_count": null,
      "outputs": []
    },
    {
      "cell_type": "code",
      "metadata": {
        "id": "lm_z2DDAmFDD"
      },
      "source": [
        "plt.imshow(out[0,0].detach())\n",
        "plt.colorbar()"
      ],
      "execution_count": null,
      "outputs": []
    },
    {
      "cell_type": "code",
      "metadata": {
        "id": "_b7Y8n1jmFDD"
      },
      "source": [
        "plt.imshow(out[0,1].detach())\n",
        "plt.colorbar()"
      ],
      "execution_count": null,
      "outputs": []
    },
    {
      "cell_type": "code",
      "metadata": {
        "id": "y0Qo88zrmFDD"
      },
      "source": [
        "prediction = np.array(out[0].detach())\n",
        "seg = np.argmax(prediction,axis=0)\n",
        "plt.imshow(seg)\n",
        "plt.colorbar()\n",
        "plt.savefig('brain_segmentation.png')"
      ],
      "execution_count": null,
      "outputs": []
    },
    {
      "cell_type": "code",
      "metadata": {
        "execution": {},
        "id": "YyNqdpyXsDTt",
        "colab": {
          "base_uri": "https://localhost:8080/",
          "height": 314
        },
        "outputId": "102f6f76-a047-4256-ef0b-fae404fddcd6"
      },
      "source": [
        "# compute results on test images\n",
        "# (note for unet to run correctly we need to pad images to be divisible by 2**(number of layers))\n",
        "# image = images_train[0]\n",
        "image = images_test[0]\n",
        "\n",
        "net.eval()\n",
        "img_padded, slices = pad_image_ND(image, 16)\n",
        "img_padded = torch.tensor(img_padded[:,0:224,0:224]).unsqueeze(0).to(device)\n",
        "img_torch = img_padded.to(torch.float32)\n",
        "#img_torch = torch.from_numpy(img_padded).to(device).unsqueeze(0)  # also need to add a first dimension\n",
        "print(img_torch.shape)\n",
        "out = net(img_torch)\n",
        "# labels = out[0][slices].detach().to(device)\n",
        "\n",
        "plt.figure(figsize=(10, 4))\n",
        "\n",
        "plt.subplot(1, 3, 1)\n",
        "plt.imshow(image[0])\n",
        "plt.colorbar()\n",
        "plt.title('test MRI image')\n",
        "prediction = np.array(out[0].detach().cpu())\n",
        "seg = np.argmax(prediction,axis=0)\n",
        "\n",
        "plt.subplot(1, 3, 2)\n",
        "plt.imshow(seg)\n",
        "plt.colorbar()\n",
        "plt.title('segmentation prediction')\n",
        "\n",
        "plt.subplot(1, 3, 3)\n",
        "plt.imshow(label_test[0][0])\n",
        "plt.colorbar()\n",
        "plt.tight_layout()\n",
        "plt.show()"
      ],
      "execution_count": 38,
      "outputs": [
        {
          "output_type": "stream",
          "text": [
            "torch.Size([1, 1, 224, 224])\n"
          ],
          "name": "stdout"
        },
        {
          "output_type": "display_data",
          "data": {
            "image/png": "[encoded data removed]",
            "text/plain": [
              "<Figure size 720x288 with 6 Axes>"
            ]
          },
          "metadata": {
            "tags": [],
            "needs_background": "light"
          }
        }
      ]
    },
    {
      "cell_type": "code",
      "metadata": {
        "colab": {
          "base_uri": "https://localhost:8080/"
        },
        "id": "3-wtwjkY5T9P",
        "outputId": "8eb5869c-18a8-4e47-9a31-e657fa4f0133"
      },
      "source": [
        "print(label_test[0][0].shape)"
      ],
      "execution_count": 35,
      "outputs": [
        {
          "output_type": "stream",
          "text": [
            "(197, 197)\n"
          ],
          "name": "stdout"
        }
      ]
    },
    {
      "cell_type": "code",
      "metadata": {
        "id": "jSdS4Fa0mFDE"
      },
      "source": [
        "# Test network performance & plot performance metrics\n",
        "\n",
        "# https://scikit-learn.org/stable/modules/classes.html?highlight=metric#module-sklearn.metrics\n",
        "\n",
        "\n",
        "# F-score\n",
        "# accuracy"
      ],
      "execution_count": null,
      "outputs": []
    },
    {
      "cell_type": "code",
      "metadata": {
        "id": "JVIF_BDSmFDE"
      },
      "source": [
        ""
      ],
      "execution_count": null,
      "outputs": []
    },
    {
      "cell_type": "code",
      "metadata": {
        "id": "zq1_D9trmFDE"
      },
      "source": [
        ""
      ],
      "execution_count": null,
      "outputs": []
    },
    {
      "cell_type": "code",
      "metadata": {
        "id": "Q69wy4bGmFDE"
      },
      "source": [
        ""
      ],
      "execution_count": null,
      "outputs": []
    },
    {
      "cell_type": "code",
      "metadata": {
        "id": "2pK-GuoKmFDE"
      },
      "source": [
        ""
      ],
      "execution_count": null,
      "outputs": []
    },
    {
      "cell_type": "code",
      "metadata": {
        "id": "6q-e2O1vmFDE"
      },
      "source": [
        ""
      ],
      "execution_count": null,
      "outputs": []
    },
    {
      "cell_type": "markdown",
      "metadata": {
        "execution": {},
        "id": "IymfPXTKsDTv"
      },
      "source": [
        "### Setting threshold for finding cells\n",
        "\n",
        "We have found areas of \"not cell\" and \"cell\". To create an instance segmentation we need to assign each pixel in a cell to a specific cell rather than a general class. To do this, we will need to find a threshold that produces the best segmentations on our validation set. How do we define a good segmentation? We can use a measure called intersection-over-union (IoU) and call a cell a good cell if it overlaps with a ground-truth cell with an IoU greater than some value. We have taken code from [cellpose/metrics.py] to do this. These functions are based on functions from [stardist], another neat algorithm I recommend checking out!\n",
        "\n",
        "This code below computes the average precision (which you want to maximize) for a given threshold. You'll want to try several thresholds and choose one (probably coding up a loop over reasonable thresholds)."
      ]
    },
    {
      "cell_type": "code",
      "metadata": {
        "execution": {},
        "id": "UrnkzHQFsDTw"
      },
      "source": [
        "# @title Helper functions\n",
        "\n",
        "# @markdown `fill_holes_and_remove_small_masks` function\n",
        "def fill_holes_and_remove_small_masks(masks, min_size=15):\n",
        "  \"\"\" fill holes in masks (2D/3D) and discard masks smaller than min_size (2D)\n",
        "\n",
        "  fill holes in each mask using scipy.ndimage.morphology.binary_fill_holes\n",
        "\n",
        "  Parameters\n",
        "  ----------------\n",
        "  masks: int, 2D or 3D array\n",
        "      labelled masks, 0=NO masks; 1,2,...=mask labels,\n",
        "      size [Ly x Lx] or [Lz x Ly x Lx]\n",
        "  min_size: int (optional, default 15)\n",
        "      minimum number of pixels per mask, can turn off with -1\n",
        "\n",
        "  Returns\n",
        "  ---------------\n",
        "  masks: int, 2D or 3D array\n",
        "      masks with holes filled and masks smaller than min_size removed,\n",
        "      0=NO masks; 1,2,...=mask labels,\n",
        "      size [Ly x Lx] or [Lz x Ly x Lx]\n",
        "  \"\"\"\n",
        "  slices = find_objects(masks)\n",
        "  j = 0\n",
        "  for i,slc in enumerate(slices):\n",
        "    if slc is not None:\n",
        "      msk = masks[slc] == (i + 1)\n",
        "      npix = msk.sum()\n",
        "      if min_size > 0 and npix < min_size:\n",
        "        masks[slc][msk] = 0\n",
        "      else:\n",
        "        if msk.ndim==3:\n",
        "          for k in range(msk.shape[0]):\n",
        "            msk[k] = binary_fill_holes(msk[k])\n",
        "        else:\n",
        "          msk = binary_fill_holes(msk)\n",
        "        masks[slc][msk] = (j + 1)\n",
        "        j += 1\n",
        "\n",
        "  return masks\n",
        "\n",
        "\n",
        "# @markdown `average_precision` function\n",
        "def average_precision(masks_true, masks_pred, threshold=[0.5, 0.75, 0.9]):\n",
        "  \"\"\" average precision estimation: AP = TP / (TP + FP + FN)\n",
        "\n",
        "  This function is based heavily on the *fast* stardist matching functions\n",
        "  (https://github.com/mpicbg-csbd/stardist/blob/master/stardist/matching.py)\n",
        "\n",
        "  Parameters\n",
        "  ------------\n",
        "  masks_true: list of ND-arrays (int)\n",
        "      where 0=NO masks; 1,2... are mask labels\n",
        "  masks_pred: list of ND-arrays (int)\n",
        "      ND-array (int) where 0=NO masks; 1,2... are mask labels\n",
        "\n",
        "  Returns\n",
        "  ------------\n",
        "  ap: array [len(masks_true) x len(threshold)]\n",
        "      average precision at thresholds\n",
        "  tp: array [len(masks_true) x len(threshold)]\n",
        "      number of true positives at thresholds\n",
        "  fp: array [len(masks_true) x len(threshold)]\n",
        "      number of false positives at thresholds\n",
        "  fn: array [len(masks_true) x len(threshold)]\n",
        "      number of false negatives at thresholds\n",
        "  \"\"\"\n",
        "  if not isinstance(threshold, list) and not isinstance(threshold, np.ndarray):\n",
        "    threshold = [threshold]\n",
        "  ap  = np.zeros((len(masks_true), len(threshold)), np.float32)\n",
        "  tp  = np.zeros((len(masks_true), len(threshold)), np.float32)\n",
        "  fp  = np.zeros((len(masks_true), len(threshold)), np.float32)\n",
        "  fn  = np.zeros((len(masks_true), len(threshold)), np.float32)\n",
        "  n_true = np.array(list(map(np.max, masks_true)))\n",
        "  n_pred = np.array(list(map(np.max, masks_pred)))\n",
        "  for n in range(len(masks_true)):\n",
        "    #_,mt = np.reshape(np.unique(masks_true[n], return_index=True), masks_pred[n].shape)\n",
        "    if n_pred[n] > 0:\n",
        "      iou = _intersection_over_union(masks_true[n], masks_pred[n])[1:, 1:]\n",
        "      for k,th in enumerate(threshold):\n",
        "        tp[n,k] = _true_positive(iou, th)\n",
        "    fp[n] = n_pred[n] - tp[n]\n",
        "    fn[n] = n_true[n] - tp[n]\n",
        "    ap[n] = tp[n] / (tp[n] + fp[n] + fn[n])\n",
        "\n",
        "  return ap, tp, fp, fn\n",
        "\n",
        "\n",
        "@jit(nopython=True)\n",
        "def _label_overlap(x, y):\n",
        "  \"\"\" fast function to get pixel overlaps between masks in x and y\n",
        "\n",
        "  Parameters\n",
        "  ------------\n",
        "  x: ND-array, int\n",
        "      where 0=NO masks; 1,2... are mask labels\n",
        "  y: ND-array, int\n",
        "      where 0=NO masks; 1,2... are mask labels\n",
        "\n",
        "  Returns\n",
        "  ------------\n",
        "  overlap: ND-array, int\n",
        "      matrix of pixel overlaps of size [x.max()+1, y.max()+1]\n",
        "  \"\"\"\n",
        "  x = x.ravel()\n",
        "  y = y.ravel()\n",
        "  overlap = np.zeros((1 + x.max(), 1 + y.max()), dtype=np.uint)\n",
        "  for i in range(len(x)):\n",
        "    overlap[x[i], y[i]] += 1\n",
        "\n",
        "  return overlap\n",
        "\n",
        "\n",
        "def _intersection_over_union(masks_true, masks_pred):\n",
        "  \"\"\" intersection over union of all mask pairs\n",
        "\n",
        "  Parameters\n",
        "  ------------\n",
        "  masks_true: ND-array, int\n",
        "      ground truth masks, where 0=NO masks; 1,2... are mask labels\n",
        "  masks_pred: ND-array, int\n",
        "      predicted masks, where 0=NO masks; 1,2... are mask labels\n",
        "\n",
        "  Returns\n",
        "  ------------\n",
        "  iou: ND-array, float\n",
        "      matrix of IOU pairs of size [x.max()+1, y.max()+1]\n",
        "  \"\"\"\n",
        "  overlap = _label_overlap(masks_true, masks_pred)\n",
        "  n_pixels_pred = np.sum(overlap, axis=0, keepdims=True)\n",
        "  n_pixels_true = np.sum(overlap, axis=1, keepdims=True)\n",
        "  iou = overlap / (n_pixels_pred + n_pixels_true - overlap)\n",
        "  iou[np.isnan(iou)] = 0.0\n",
        "\n",
        "  return iou\n",
        "\n",
        "\n",
        "def _true_positive(iou, th):\n",
        "  \"\"\" true positive at threshold th\n",
        "\n",
        "  Parameters\n",
        "  ------------\n",
        "  iou: float, ND-array\n",
        "      array of IOU pairs\n",
        "  th: float\n",
        "      threshold on IOU for positive label\n",
        "\n",
        "  Returns\n",
        "  ------------\n",
        "  tp: float\n",
        "      number of true positives at threshold\n",
        "  \"\"\"\n",
        "  n_min = min(iou.shape[0], iou.shape[1])\n",
        "  costs = -(iou >= th).astype(float) - iou / (2 * n_min)\n",
        "  true_ind, pred_ind = linear_sum_assignment(costs)\n",
        "  match_ok = iou[true_ind, pred_ind] >= th\n",
        "  tp = match_ok.sum()\n",
        "\n",
        "  return tp"
      ],
      "execution_count": 43,
      "outputs": []
    },
    {
      "cell_type": "code",
      "metadata": {
        "execution": {},
        "id": "XnFd7olpsDTx"
      },
      "source": [
        "# def get_masks_unet(output, cell_threshold=0, min_size=30):\n",
        "#   \"\"\" create masks using NOT CELL probability and CELL probability\n",
        "\n",
        "#   min_size: minimum number of pixels in the masks\n",
        "#   \"\"\"\n",
        "\n",
        "#   cells = (output[1] - output[0]) > cell_threshold\n",
        "#   selem = generate_binary_structure(cells.ndim, connectivity=1)\n",
        "#   masks, nlabels = label(cells, selem)\n",
        "#   shape0 = masks.shape\n",
        "#   _,masks = np.unique(masks, return_inverse=True)\n",
        "#   masks = np.reshape(masks, shape0)\n",
        "#   # fill holes and remove small masks\n",
        "#   masks = fill_holes_and_remove_small_masks(masks, min_size=min_size)\n",
        "\n",
        "#   return masks.astype(np.uint16)\n",
        "\n",
        "\n",
        "# # images_test \n",
        "# # label_test\n",
        "\n",
        "# image = images_train[0]\n",
        "\n",
        "# # net.eval()\n",
        "# # img_padded, slices = pad_image_ND(image, 16)\n",
        "# # img_padded = torch.tensor(img_padded[:,0:224,0:224]).unsqueeze(0)\n",
        "# # img_torch = img_padded.to(torch.float32)\n",
        "# # #img_torch = torch.from_numpy(img_padded).to(device).unsqueeze(0)  # also need to add a first dimension\n",
        "# # out = net(img_torch)\n",
        "# # labels = out[0][slices].detach().cpu()\n",
        "\n",
        "\n",
        "\n",
        "# # Run the model\n",
        "# net.eval()\n",
        "# # (depending on GPU capacity you may need to run this in a loop)\n",
        "\n",
        "# test_padded, slices = pad_image_ND(images_test, 16)\n",
        "# test_padded = torch.tensor(test_padded[:,:,0:224,0:224])\n",
        "# test_padded = test_padded.to(torch.float32)\n",
        "# #val_torch = torch.from_numpy(val_padded).to(device)\n",
        "# out = net(test_padded)\n",
        "\n",
        "# # compute CELL / NOT CELL probability\n",
        "# labels = out[slices].detach().cpu().numpy()\n",
        "\n",
        "# # create masks from probabilities\n",
        "# cell_threshold = 2.5\n",
        "# masks = [get_masks_unet(lbl, cell_threshold=cell_threshold) for lbl in labels]\n",
        "\n",
        "# # (note this function expects multiple masks)\n",
        "# iou_threshold = np.arange(0.5, 1, 0.1)\n",
        "# ap = average_precision(val_masks, masks, threshold=iou_threshold)[0]\n",
        "\n",
        "# # plot results\n",
        "# print(ap[:, 0].mean(axis=0))\n",
        "# plt.plot(iou_threshold, ap.mean(axis=0))\n",
        "# plt.xlabel('IoU threshold')\n",
        "# plt.ylabel('average precision')\n",
        "# plt.ylim([0, 1])\n",
        "# plt.show()"
      ],
      "execution_count": null,
      "outputs": []
    },
    {
      "cell_type": "code",
      "metadata": {
        "colab": {
          "base_uri": "https://localhost:8080/"
        },
        "id": "VZZ063GPBYaT",
        "outputId": "cf5d3d77-5353-45d6-a90a-2897ef4410d6"
      },
      "source": [
        "images_test.shape, img_padded.shape, test_padded.shape"
      ],
      "execution_count": 50,
      "outputs": [
        {
          "output_type": "execute_result",
          "data": {
            "text/plain": [
              "((800, 1, 197, 197), torch.Size([1, 800, 1, 224, 224]), (800, 1, 224, 224))"
            ]
          },
          "metadata": {
            "tags": []
          },
          "execution_count": 50
        }
      ]
    },
    {
      "cell_type": "code",
      "metadata": {
        "colab": {
          "base_uri": "https://localhost:8080/"
        },
        "id": "V4BOOg8rL7gk",
        "outputId": "0a3d7178-d166-4e5e-9a50-2295fa3a73e5"
      },
      "source": [
        "images_val.shape, img_padded.shape, test_padded.shape"
      ],
      "execution_count": 74,
      "outputs": [
        {
          "output_type": "execute_result",
          "data": {
            "text/plain": [
              "((640, 1, 197, 197), torch.Size([2, 1, 224, 224]), (2, 1, 224, 224))"
            ]
          },
          "metadata": {
            "tags": []
          },
          "execution_count": 74
        }
      ]
    },
    {
      "cell_type": "code",
      "metadata": {
        "colab": {
          "base_uri": "https://localhost:8080/"
        },
        "id": "7lpLx1jc_5nh",
        "outputId": "bfb569c5-6424-4627-9dd1-f1f572a0bce0"
      },
      "source": [
        "net.eval()\n",
        "n=2\n",
        "# (depending on GPU capacity you may need to run this in a loop)\n",
        "test_padded, slices = pad_image_ND(images_test[0:n], 16)\n",
        "img_padded = torch.tensor(test_padded).to(device)\n",
        "img_torch = img_padded.to(torch.float32)\n",
        "test_torch = img_torch.to(device)\n",
        "out = net(test_torch)\n",
        "prediction = np.array(out.detach().cpu())\n",
        "\n",
        "seg = np.argmax(prediction,axis=1)\n",
        "label_test_padded, _ =pad_image_ND(label_test[0:n], 16)\n",
        "label_padded = torch.tensor(label_test_padded)\n",
        "label_torch = label_padded.to(torch.float32).squeeze(1)\n",
        "label_torch.shape"
      ],
      "execution_count": 65,
      "outputs": [
        {
          "output_type": "execute_result",
          "data": {
            "text/plain": [
              "torch.Size([2, 224, 224])"
            ]
          },
          "metadata": {
            "tags": []
          },
          "execution_count": 65
        }
      ]
    },
    {
      "cell_type": "markdown",
      "metadata": {
        "execution": {},
        "id": "BxPExS2OsDTy"
      },
      "source": [
        "Once you choose a threshold, you'll want to use it on your test images."
      ]
    },
    {
      "cell_type": "code",
      "metadata": {
        "execution": {},
        "id": "YXRyK3bnsDTz",
        "colab": {
          "base_uri": "https://localhost:8080/"
        },
        "outputId": "6042460c-67d9-4c2f-df3e-efc174c85791"
      },
      "source": [
        "net.eval()\n",
        "n=2\n",
        "# (depending on GPU capacity you may need to run this in a loop)\n",
        "test_padded, slices = pad_image_ND(images_test[0:n], 16)\n",
        "img_padded = torch.tensor(test_padded).to(device)\n",
        "img_torch = img_padded.to(torch.float32)\n",
        "test_torch = img_torch.to(device)\n",
        "out = net(test_torch) \n",
        "\n",
        "prediction = np.array(out.detach().cpu())\n",
        "seg = np.argmax(prediction,axis=1)\n",
        "label_test_padded, _ =pad_image_ND(label_test[0:n], 16)\n",
        "label_padded = torch.tensor(label_test_padded)\n",
        "label_torch = label_padded.to(torch.float32).squeeze(1)\n",
        "\n",
        "print(type(seg))\n",
        "# Calculate the accuracy \n",
        "#ap = average_precision(label_torch, seg) #iou_threshold\n",
        "#print(label_torch,seg)\n",
        "# plot results\n",
        "# print(ap[:,0].mean(axis=0))\n",
        "# plt.plot(iou_threshold, ap.mean(axis=0))\n",
        "# plt.xlabel('IoU threshold')\n",
        "# plt.ylabel('average precision')\n",
        "# plt.ylim([0, 1])\n",
        "# plt.show()"
      ],
      "execution_count": 73,
      "outputs": [
        {
          "output_type": "stream",
          "text": [
            "<class 'numpy.ndarray'>\n"
          ],
          "name": "stdout"
        }
      ]
    },
    {
      "cell_type": "markdown",
      "metadata": {
        "execution": {},
        "id": "RNvVaQH3sDT0"
      },
      "source": [
        "What kinds of errors is the network making?\n",
        "\n",
        "U-nets with this type of prediction (CELL/NOT CELL) typically overmerge cells. You may see some examples below. In the text at the beginning, ways to avoid this problem are discussed and also one instance (distance to boundary) is implemented in the cellpose repository. \n",
        "\n",
        "You can also compare your results to cellpose using the web interface at [www.cellpose.org](https://www.cellpose.org).\n",
        "\n",
        "Below you can see that we are plotting the ground truth masks (the true masks) and the masks that the algorithm predicted. It may be sort of hard to compare the masks in a jupyter-notebook. One useful tool to visualize imaging data is [napari](https://www.napari.org). You can try running it on your local computer and visualizing your predictions overlaid on the original images."
      ]
    },
    {
      "cell_type": "code",
      "metadata": {
        "execution": {},
        "id": "m2boWrHUsDT0"
      },
      "source": [
        "plt.figure(figsize=(10, 15))\n",
        "plt.subplot(2, 1, 1)\n",
        "plt.imshow(masks_test[0])\n",
        "plt.title('ground truth masks')\n",
        "plt.subplot(2, 1, 2)\n",
        "plt.imshow(masks[0])\n",
        "plt.title('predicted masks')\n",
        "plt.show()"
      ],
      "execution_count": null,
      "outputs": []
    }
  ]
}